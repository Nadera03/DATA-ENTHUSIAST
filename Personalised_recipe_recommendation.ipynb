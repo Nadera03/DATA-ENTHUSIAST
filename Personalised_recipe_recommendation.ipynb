{
  "nbformat": 4,
  "nbformat_minor": 0,
  "metadata": {
    "colab": {
      "provenance": [],
      "authorship_tag": "ABX9TyPcBdPNQZFB8iWktBJ+W8Yz",
      "include_colab_link": true
    },
    "kernelspec": {
      "name": "python3",
      "display_name": "Python 3"
    },
    "language_info": {
      "name": "python"
    }
  },
  "cells": [
    {
      "cell_type": "markdown",
      "metadata": {
        "id": "view-in-github",
        "colab_type": "text"
      },
      "source": [
        "<a href=\"https://colab.research.google.com/github/Nadera03/DATA-ENTHUSIAST/blob/main/Personalised_recipe_recommendation.ipynb\" target=\"_parent\"><img src=\"https://colab.research.google.com/assets/colab-badge.svg\" alt=\"Open In Colab\"/></a>"
      ]
    },
    {
      "cell_type": "code",
      "execution_count": 1,
      "metadata": {
        "id": "IcsrVEvnSPmG"
      },
      "outputs": [],
      "source": [
        "import pandas as pd\n",
        "\n",
        "# Create a DataFrame of recipes\n",
        "recipes = {\n",
        "    'title': ['Spaghetti Carbonara', 'Chicken Alfredo', 'Vegetable Stir-Fry', 'Margherita Pizza'],\n",
        "    'ingredients': ['spaghetti, eggs, bacon, parmesan cheese',\n",
        "                    'chicken breasts, fettuccine, heavy cream, garlic, parmesan cheese',\n",
        "                    'vegetables (e.g., bell peppers, broccoli, carrots), tofu, soy sauce, ginger, garlic',\n",
        "                    'pizza dough, tomato sauce, mozzarella cheese, basil, olive oil'],\n",
        "    'cuisine': ['Italian', 'Italian', 'Asian', 'Italian']\n",
        "}\n",
        "\n",
        "recipe_df = pd.DataFrame(recipes)\n"
      ]
    },
    {
      "cell_type": "code",
      "source": [
        "# Ask the user for their preferred cuisine\n",
        "preferred_cuisine = input(\"Enter your preferred cuisine (Italian, Asian, etc.): \")\n"
      ],
      "metadata": {
        "colab": {
          "base_uri": "https://localhost:8080/"
        },
        "id": "veJG5qToSR5f",
        "outputId": "9fe00c35-234a-4749-ab87-4ee4b23d4025"
      },
      "execution_count": 2,
      "outputs": [
        {
          "name": "stdout",
          "output_type": "stream",
          "text": [
            "Enter your preferred cuisine (Italian, Asian, etc.): Asian\n"
          ]
        }
      ]
    },
    {
      "cell_type": "code",
      "source": [
        "# Filter recipes based on preferred cuisine\n",
        "recommended_recipe = recipe_df[recipe_df['cuisine'] == preferred_cuisine].sample(n=1)\n",
        "\n",
        "if recommended_recipe.empty:\n",
        "    print(\"Sorry, no recipes found for your preferred cuisine.\")\n",
        "else:\n",
        "    print(\"Recommended Recipe:\")\n",
        "    print(recommended_recipe)\n"
      ],
      "metadata": {
        "colab": {
          "base_uri": "https://localhost:8080/"
        },
        "id": "p4UrBDH3Sg2e",
        "outputId": "7d7e52ad-ee70-42b8-e749-861d32d319c8"
      },
      "execution_count": 3,
      "outputs": [
        {
          "output_type": "stream",
          "name": "stdout",
          "text": [
            "Recommended Recipe:\n",
            "                title                                        ingredients  \\\n",
            "2  Vegetable Stir-Fry  vegetables (e.g., bell peppers, broccoli, carr...   \n",
            "\n",
            "  cuisine  \n",
            "2   Asian  \n"
          ]
        }
      ]
    },
    {
      "cell_type": "code",
      "source": [
        "import pandas as pd\n",
        "import random\n",
        "\n",
        "# Create a DataFrame of recipes\n",
        "recipes = {\n",
        "    'title': ['Spaghetti Carbonara', 'Chicken Alfredo', 'Vegetable Stir-Fry', 'Margherita Pizza', 'Sushi', 'Pad Thai', 'Tacos', 'Chicken Tikka Masala'],\n",
        "    'ingredients': ['spaghetti, eggs, bacon, parmesan cheese',\n",
        "                    'chicken breasts, fettuccine, heavy cream, garlic, parmesan cheese',\n",
        "                    'vegetables (e.g., bell peppers, broccoli, carrots), tofu, soy sauce, ginger, garlic',\n",
        "                    'pizza dough, tomato sauce, mozzarella cheese, basil, olive oil',\n",
        "                    'sushi rice, nori, fish (e.g., salmon, tuna), cucumber, avocado',\n",
        "                    'rice noodles, tofu, bean sprouts, peanuts, tamarind sauce',\n",
        "                    'tortillas, ground beef, lettuce, tomato, cheese, salsa',\n",
        "                    'chicken, tomato, onion, yogurt, curry spices'],\n",
        "    'cuisine': ['Italian', 'Italian', 'Asian', 'Italian', 'Japanese', 'Thai', 'Mexican', 'Indian'],\n",
        "    'dietary_preference': ['Non-Vegetarian', 'Non-Vegetarian', 'Vegetarian', 'Vegetarian', 'Non-Vegetarian', 'Vegetarian', 'Non-Vegetarian', 'Non-Vegetarian'],\n",
        "    'rating': [4.5, 4.2, 4.7, 4.6, 4.8, 4.4, 4.6, 4.7],\n",
        "    'gluten_free': [False, False, True, False, True, True, False, False],\n",
        "    'dairy_free': [False, False, True, True, True, True, False, True],\n",
        "    'diabetes_friendly': [False, False, True, False, True, True, True, False],\n",
        "    'heart_friendly': [False, False, True, False, False, False, False, True],\n",
        "    'cholesterol_friendly': [False, False, True, False, False, False, False, True]\n",
        "}\n",
        "\n",
        "recipe_df = pd.DataFrame(recipes)\n",
        "\n",
        "# Ask the user for their preferred cuisine\n",
        "preferred_cuisine = input(\"Enter your preferred cuisine (Italian, Asian, Mexican, Indian, etc.) or leave blank for all cuisines: \")\n",
        "\n",
        "# Ask the user for their dietary preference\n",
        "dietary_preference = input(\"Enter your dietary preference (Vegetarian or Non-Vegetarian) or leave blank for all preferences: \")\n",
        "\n",
        "# Ask the user for any specific health conditions\n",
        "health_conditions = input(\"Enter any specific health conditions (e.g., diabetes_friendly, heart_friendly, cholesterol_friendly) or leave blank for no conditions: \")\n",
        "\n",
        "# Filter recipes based on preferred cuisine, dietary preference, and health conditions\n",
        "filtered_recipes = recipe_df.copy()\n",
        "\n",
        "if preferred_cuisine:\n",
        "    filtered_recipes = filtered_recipes[filtered_recipes['cuisine'] == preferred_cuisine]\n",
        "\n",
        "if dietary_preference:\n",
        "    filtered_recipes = filtered_recipes[filtered_recipes['dietary_preference'] == dietary_preference]\n",
        "\n",
        "if health_conditions:\n",
        "    for condition in health_conditions.split(','):\n",
        "        filtered_recipes = filtered_recipes[filtered_recipes[condition.strip().lower()]]\n",
        "\n",
        "if filtered_recipes.empty:\n",
        "    print(\"Sorry, no recipes found matching your criteria.\")\n",
        "else:\n",
        "    # Recommend a random recipe from the filtered list\n",
        "    recommended_recipe = filtered_recipes.sample(n=1)\n",
        "\n",
        "    print(\"Recommended Recipe:\")\n",
        "    print(recommended_recipe[['title', 'ingredients', 'rating']])\n"
      ],
      "metadata": {
        "colab": {
          "base_uri": "https://localhost:8080/"
        },
        "id": "0ckOYlLRVt9o",
        "outputId": "40d3f140-d9cd-4d93-80b4-ac1e3b8981da"
      },
      "execution_count": 10,
      "outputs": [
        {
          "output_type": "stream",
          "name": "stdout",
          "text": [
            "Enter your preferred cuisine (Italian, Asian, Mexican, Indian, etc.) or leave blank for all cuisines: Indian\n",
            "Enter your dietary preference (Vegetarian or Non-Vegetarian) or leave blank for all preferences: Non-Vegetarian\n",
            "Enter any specific health conditions (e.g., diabetes_friendly, heart_friendly, cholesterol_friendly) or leave blank for no conditions: \n",
            "Recommended Recipe:\n",
            "                  title                                   ingredients  rating\n",
            "7  Chicken Tikka Masala  chicken, tomato, onion, yogurt, curry spices     4.7\n"
          ]
        }
      ]
    }
  ]
}