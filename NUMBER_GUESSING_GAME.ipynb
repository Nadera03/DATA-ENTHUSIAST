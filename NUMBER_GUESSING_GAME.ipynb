{
  "nbformat": 4,
  "nbformat_minor": 0,
  "metadata": {
    "colab": {
      "provenance": [],
      "authorship_tag": "ABX9TyM3JTS2DN9nVduURsc+yyul",
      "include_colab_link": true
    },
    "kernelspec": {
      "name": "python3",
      "display_name": "Python 3"
    },
    "language_info": {
      "name": "python"
    }
  },
  "cells": [
    {
      "cell_type": "markdown",
      "metadata": {
        "id": "view-in-github",
        "colab_type": "text"
      },
      "source": [
        "<a href=\"https://colab.research.google.com/github/Nadera03/DATA-ENTHUSIAST/blob/main/NUMBER_GUESSING_GAME.ipynb\" target=\"_parent\"><img src=\"https://colab.research.google.com/assets/colab-badge.svg\" alt=\"Open In Colab\"/></a>"
      ]
    },
    {
      "cell_type": "code",
      "execution_count": null,
      "metadata": {
        "colab": {
          "base_uri": "https://localhost:8080/"
        },
        "id": "eDn5h2hSUtJd",
        "outputId": "6f2cfbb5-861c-4a7e-efe9-8d4e2a6a7a4c"
      },
      "outputs": [
        {
          "output_type": "stream",
          "name": "stdout",
          "text": [
            "Welcome to the Number Guessing Game!\n",
            "I'm thinking of a number between 1 and 100. Can you guess it?\n"
          ]
        }
      ],
      "source": [
        "import random\n",
        "\n",
        "def guess_number():\n",
        "    secret_number = random.randint(1, 100)\n",
        "    attempts = 0\n",
        "\n",
        "    print(\"Welcome to the Number Guessing Game!\")\n",
        "    print(\"I'm thinking of a number between 1 and 100. Can you guess it?\")\n",
        "\n",
        "    while True:\n",
        "        guess = int(input(\"Enter your guess: \"))\n",
        "        attempts += 1\n",
        "\n",
        "        if guess < secret_number:\n",
        "            print(\"Too low! Try again.\")\n",
        "        elif guess > secret_number:\n",
        "            print(\"Too high! Try again.\")\n",
        "        else:\n",
        "            print(f\"Congratulations! You've guessed the number {secret_number} correctly!\")\n",
        "            print(f\"It took you {attempts} attempts.\")\n",
        "            break\n",
        "\n",
        "guess_number()\n",
        "\n",
        "\n",
        "\n"
      ]
    }
  ]
}