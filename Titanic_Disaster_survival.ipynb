{
  "nbformat": 4,
  "nbformat_minor": 0,
  "metadata": {
    "colab": {
      "provenance": [],
      "include_colab_link": true
    },
    "kernelspec": {
      "name": "python3",
      "display_name": "Python 3"
    },
    "language_info": {
      "name": "python"
    }
  },
  "cells": [
    {
      "cell_type": "markdown",
      "metadata": {
        "id": "view-in-github",
        "colab_type": "text"
      },
      "source": [
        "<a href=\"https://colab.research.google.com/github/Nadera03/DATA-ENTHUSIAST/blob/main/Titanic_Disaster_survival.ipynb\" target=\"_parent\"><img src=\"https://colab.research.google.com/assets/colab-badge.svg\" alt=\"Open In Colab\"/></a>"
      ]
    },
    {
      "cell_type": "code",
      "source": [
        "#load dataset -Titanic\n",
        "import pandas as pd\n",
        "df = pd.read_csv('https://raw.githubusercontent.com/BushraAijaz/dataset/main/dataset_titanic(classification).csv')\n",
        "df"
      ],
      "metadata": {
        "colab": {
          "base_uri": "https://localhost:8080/",
          "height": 424
        },
        "id": "wl7fX4R_huwX",
        "outputId": "b3fd89fa-ea2d-4491-ff8f-b5f3e6f906a0"
      },
      "execution_count": null,
      "outputs": [
        {
          "output_type": "execute_result",
          "data": {
            "text/plain": [
              "     PassengerId  Survived  Pclass  \\\n",
              "0              1         0       3   \n",
              "1              2         1       1   \n",
              "2              3         1       3   \n",
              "3              4         1       1   \n",
              "4              5         0       3   \n",
              "..           ...       ...     ...   \n",
              "886          887         0       2   \n",
              "887          888         1       1   \n",
              "888          889         0       3   \n",
              "889          890         1       1   \n",
              "890          891         0       3   \n",
              "\n",
              "                                                  Name     Sex   Age  SibSp  \\\n",
              "0                              Braund, Mr. Owen Harris    male  22.0      1   \n",
              "1    Cumings, Mrs. John Bradley (Florence Briggs Th...  female  38.0      1   \n",
              "2                               Heikkinen, Miss. Laina  female  26.0      0   \n",
              "3         Futrelle, Mrs. Jacques Heath (Lily May Peel)  female  35.0      1   \n",
              "4                             Allen, Mr. William Henry    male  35.0      0   \n",
              "..                                                 ...     ...   ...    ...   \n",
              "886                              Montvila, Rev. Juozas    male  27.0      0   \n",
              "887                       Graham, Miss. Margaret Edith  female  19.0      0   \n",
              "888           Johnston, Miss. Catherine Helen \"Carrie\"  female   NaN      1   \n",
              "889                              Behr, Mr. Karl Howell    male  26.0      0   \n",
              "890                                Dooley, Mr. Patrick    male  32.0      0   \n",
              "\n",
              "     Parch            Ticket     Fare Cabin Embarked  \n",
              "0        0         A/5 21171   7.2500   NaN        S  \n",
              "1        0          PC 17599  71.2833   C85        C  \n",
              "2        0  STON/O2. 3101282   7.9250   NaN        S  \n",
              "3        0            113803  53.1000  C123        S  \n",
              "4        0            373450   8.0500   NaN        S  \n",
              "..     ...               ...      ...   ...      ...  \n",
              "886      0            211536  13.0000   NaN        S  \n",
              "887      0            112053  30.0000   B42        S  \n",
              "888      2        W./C. 6607  23.4500   NaN        S  \n",
              "889      0            111369  30.0000  C148        C  \n",
              "890      0            370376   7.7500   NaN        Q  \n",
              "\n",
              "[891 rows x 12 columns]"
            ],
            "text/html": [
              "\n",
              "  <div id=\"df-ab6df5c2-a33f-41af-9ea7-4746c77878ce\" class=\"colab-df-container\">\n",
              "    <div>\n",
              "<style scoped>\n",
              "    .dataframe tbody tr th:only-of-type {\n",
              "        vertical-align: middle;\n",
              "    }\n",
              "\n",
              "    .dataframe tbody tr th {\n",
              "        vertical-align: top;\n",
              "    }\n",
              "\n",
              "    .dataframe thead th {\n",
              "        text-align: right;\n",
              "    }\n",
              "</style>\n",
              "<table border=\"1\" class=\"dataframe\">\n",
              "  <thead>\n",
              "    <tr style=\"text-align: right;\">\n",
              "      <th></th>\n",
              "      <th>PassengerId</th>\n",
              "      <th>Survived</th>\n",
              "      <th>Pclass</th>\n",
              "      <th>Name</th>\n",
              "      <th>Sex</th>\n",
              "      <th>Age</th>\n",
              "      <th>SibSp</th>\n",
              "      <th>Parch</th>\n",
              "      <th>Ticket</th>\n",
              "      <th>Fare</th>\n",
              "      <th>Cabin</th>\n",
              "      <th>Embarked</th>\n",
              "    </tr>\n",
              "  </thead>\n",
              "  <tbody>\n",
              "    <tr>\n",
              "      <th>0</th>\n",
              "      <td>1</td>\n",
              "      <td>0</td>\n",
              "      <td>3</td>\n",
              "      <td>Braund, Mr. Owen Harris</td>\n",
              "      <td>male</td>\n",
              "      <td>22.0</td>\n",
              "      <td>1</td>\n",
              "      <td>0</td>\n",
              "      <td>A/5 21171</td>\n",
              "      <td>7.2500</td>\n",
              "      <td>NaN</td>\n",
              "      <td>S</td>\n",
              "    </tr>\n",
              "    <tr>\n",
              "      <th>1</th>\n",
              "      <td>2</td>\n",
              "      <td>1</td>\n",
              "      <td>1</td>\n",
              "      <td>Cumings, Mrs. John Bradley (Florence Briggs Th...</td>\n",
              "      <td>female</td>\n",
              "      <td>38.0</td>\n",
              "      <td>1</td>\n",
              "      <td>0</td>\n",
              "      <td>PC 17599</td>\n",
              "      <td>71.2833</td>\n",
              "      <td>C85</td>\n",
              "      <td>C</td>\n",
              "    </tr>\n",
              "    <tr>\n",
              "      <th>2</th>\n",
              "      <td>3</td>\n",
              "      <td>1</td>\n",
              "      <td>3</td>\n",
              "      <td>Heikkinen, Miss. Laina</td>\n",
              "      <td>female</td>\n",
              "      <td>26.0</td>\n",
              "      <td>0</td>\n",
              "      <td>0</td>\n",
              "      <td>STON/O2. 3101282</td>\n",
              "      <td>7.9250</td>\n",
              "      <td>NaN</td>\n",
              "      <td>S</td>\n",
              "    </tr>\n",
              "    <tr>\n",
              "      <th>3</th>\n",
              "      <td>4</td>\n",
              "      <td>1</td>\n",
              "      <td>1</td>\n",
              "      <td>Futrelle, Mrs. Jacques Heath (Lily May Peel)</td>\n",
              "      <td>female</td>\n",
              "      <td>35.0</td>\n",
              "      <td>1</td>\n",
              "      <td>0</td>\n",
              "      <td>113803</td>\n",
              "      <td>53.1000</td>\n",
              "      <td>C123</td>\n",
              "      <td>S</td>\n",
              "    </tr>\n",
              "    <tr>\n",
              "      <th>4</th>\n",
              "      <td>5</td>\n",
              "      <td>0</td>\n",
              "      <td>3</td>\n",
              "      <td>Allen, Mr. William Henry</td>\n",
              "      <td>male</td>\n",
              "      <td>35.0</td>\n",
              "      <td>0</td>\n",
              "      <td>0</td>\n",
              "      <td>373450</td>\n",
              "      <td>8.0500</td>\n",
              "      <td>NaN</td>\n",
              "      <td>S</td>\n",
              "    </tr>\n",
              "    <tr>\n",
              "      <th>...</th>\n",
              "      <td>...</td>\n",
              "      <td>...</td>\n",
              "      <td>...</td>\n",
              "      <td>...</td>\n",
              "      <td>...</td>\n",
              "      <td>...</td>\n",
              "      <td>...</td>\n",
              "      <td>...</td>\n",
              "      <td>...</td>\n",
              "      <td>...</td>\n",
              "      <td>...</td>\n",
              "      <td>...</td>\n",
              "    </tr>\n",
              "    <tr>\n",
              "      <th>886</th>\n",
              "      <td>887</td>\n",
              "      <td>0</td>\n",
              "      <td>2</td>\n",
              "      <td>Montvila, Rev. Juozas</td>\n",
              "      <td>male</td>\n",
              "      <td>27.0</td>\n",
              "      <td>0</td>\n",
              "      <td>0</td>\n",
              "      <td>211536</td>\n",
              "      <td>13.0000</td>\n",
              "      <td>NaN</td>\n",
              "      <td>S</td>\n",
              "    </tr>\n",
              "    <tr>\n",
              "      <th>887</th>\n",
              "      <td>888</td>\n",
              "      <td>1</td>\n",
              "      <td>1</td>\n",
              "      <td>Graham, Miss. Margaret Edith</td>\n",
              "      <td>female</td>\n",
              "      <td>19.0</td>\n",
              "      <td>0</td>\n",
              "      <td>0</td>\n",
              "      <td>112053</td>\n",
              "      <td>30.0000</td>\n",
              "      <td>B42</td>\n",
              "      <td>S</td>\n",
              "    </tr>\n",
              "    <tr>\n",
              "      <th>888</th>\n",
              "      <td>889</td>\n",
              "      <td>0</td>\n",
              "      <td>3</td>\n",
              "      <td>Johnston, Miss. Catherine Helen \"Carrie\"</td>\n",
              "      <td>female</td>\n",
              "      <td>NaN</td>\n",
              "      <td>1</td>\n",
              "      <td>2</td>\n",
              "      <td>W./C. 6607</td>\n",
              "      <td>23.4500</td>\n",
              "      <td>NaN</td>\n",
              "      <td>S</td>\n",
              "    </tr>\n",
              "    <tr>\n",
              "      <th>889</th>\n",
              "      <td>890</td>\n",
              "      <td>1</td>\n",
              "      <td>1</td>\n",
              "      <td>Behr, Mr. Karl Howell</td>\n",
              "      <td>male</td>\n",
              "      <td>26.0</td>\n",
              "      <td>0</td>\n",
              "      <td>0</td>\n",
              "      <td>111369</td>\n",
              "      <td>30.0000</td>\n",
              "      <td>C148</td>\n",
              "      <td>C</td>\n",
              "    </tr>\n",
              "    <tr>\n",
              "      <th>890</th>\n",
              "      <td>891</td>\n",
              "      <td>0</td>\n",
              "      <td>3</td>\n",
              "      <td>Dooley, Mr. Patrick</td>\n",
              "      <td>male</td>\n",
              "      <td>32.0</td>\n",
              "      <td>0</td>\n",
              "      <td>0</td>\n",
              "      <td>370376</td>\n",
              "      <td>7.7500</td>\n",
              "      <td>NaN</td>\n",
              "      <td>Q</td>\n",
              "    </tr>\n",
              "  </tbody>\n",
              "</table>\n",
              "<p>891 rows × 12 columns</p>\n",
              "</div>\n",
              "    <div class=\"colab-df-buttons\">\n",
              "\n",
              "  <div class=\"colab-df-container\">\n",
              "    <button class=\"colab-df-convert\" onclick=\"convertToInteractive('df-ab6df5c2-a33f-41af-9ea7-4746c77878ce')\"\n",
              "            title=\"Convert this dataframe to an interactive table.\"\n",
              "            style=\"display:none;\">\n",
              "\n",
              "  <svg xmlns=\"http://www.w3.org/2000/svg\" height=\"24px\" viewBox=\"0 -960 960 960\">\n",
              "    <path d=\"M120-120v-720h720v720H120Zm60-500h600v-160H180v160Zm220 220h160v-160H400v160Zm0 220h160v-160H400v160ZM180-400h160v-160H180v160Zm440 0h160v-160H620v160ZM180-180h160v-160H180v160Zm440 0h160v-160H620v160Z\"/>\n",
              "  </svg>\n",
              "    </button>\n",
              "\n",
              "  <style>\n",
              "    .colab-df-container {\n",
              "      display:flex;\n",
              "      gap: 12px;\n",
              "    }\n",
              "\n",
              "    .colab-df-convert {\n",
              "      background-color: #E8F0FE;\n",
              "      border: none;\n",
              "      border-radius: 50%;\n",
              "      cursor: pointer;\n",
              "      display: none;\n",
              "      fill: #1967D2;\n",
              "      height: 32px;\n",
              "      padding: 0 0 0 0;\n",
              "      width: 32px;\n",
              "    }\n",
              "\n",
              "    .colab-df-convert:hover {\n",
              "      background-color: #E2EBFA;\n",
              "      box-shadow: 0px 1px 2px rgba(60, 64, 67, 0.3), 0px 1px 3px 1px rgba(60, 64, 67, 0.15);\n",
              "      fill: #174EA6;\n",
              "    }\n",
              "\n",
              "    .colab-df-buttons div {\n",
              "      margin-bottom: 4px;\n",
              "    }\n",
              "\n",
              "    [theme=dark] .colab-df-convert {\n",
              "      background-color: #3B4455;\n",
              "      fill: #D2E3FC;\n",
              "    }\n",
              "\n",
              "    [theme=dark] .colab-df-convert:hover {\n",
              "      background-color: #434B5C;\n",
              "      box-shadow: 0px 1px 3px 1px rgba(0, 0, 0, 0.15);\n",
              "      filter: drop-shadow(0px 1px 2px rgba(0, 0, 0, 0.3));\n",
              "      fill: #FFFFFF;\n",
              "    }\n",
              "  </style>\n",
              "\n",
              "    <script>\n",
              "      const buttonEl =\n",
              "        document.querySelector('#df-ab6df5c2-a33f-41af-9ea7-4746c77878ce button.colab-df-convert');\n",
              "      buttonEl.style.display =\n",
              "        google.colab.kernel.accessAllowed ? 'block' : 'none';\n",
              "\n",
              "      async function convertToInteractive(key) {\n",
              "        const element = document.querySelector('#df-ab6df5c2-a33f-41af-9ea7-4746c77878ce');\n",
              "        const dataTable =\n",
              "          await google.colab.kernel.invokeFunction('convertToInteractive',\n",
              "                                                    [key], {});\n",
              "        if (!dataTable) return;\n",
              "\n",
              "        const docLinkHtml = 'Like what you see? Visit the ' +\n",
              "          '<a target=\"_blank\" href=https://colab.research.google.com/notebooks/data_table.ipynb>data table notebook</a>'\n",
              "          + ' to learn more about interactive tables.';\n",
              "        element.innerHTML = '';\n",
              "        dataTable['output_type'] = 'display_data';\n",
              "        await google.colab.output.renderOutput(dataTable, element);\n",
              "        const docLink = document.createElement('div');\n",
              "        docLink.innerHTML = docLinkHtml;\n",
              "        element.appendChild(docLink);\n",
              "      }\n",
              "    </script>\n",
              "  </div>\n",
              "\n",
              "\n",
              "<div id=\"df-5199f3cd-1215-46a6-8de9-101bf2d1a941\">\n",
              "  <button class=\"colab-df-quickchart\" onclick=\"quickchart('df-5199f3cd-1215-46a6-8de9-101bf2d1a941')\"\n",
              "            title=\"Suggest charts.\"\n",
              "            style=\"display:none;\">\n",
              "\n",
              "<svg xmlns=\"http://www.w3.org/2000/svg\" height=\"24px\"viewBox=\"0 0 24 24\"\n",
              "     width=\"24px\">\n",
              "    <g>\n",
              "        <path d=\"M19 3H5c-1.1 0-2 .9-2 2v14c0 1.1.9 2 2 2h14c1.1 0 2-.9 2-2V5c0-1.1-.9-2-2-2zM9 17H7v-7h2v7zm4 0h-2V7h2v10zm4 0h-2v-4h2v4z\"/>\n",
              "    </g>\n",
              "</svg>\n",
              "  </button>\n",
              "\n",
              "<style>\n",
              "  .colab-df-quickchart {\n",
              "      --bg-color: #E8F0FE;\n",
              "      --fill-color: #1967D2;\n",
              "      --hover-bg-color: #E2EBFA;\n",
              "      --hover-fill-color: #174EA6;\n",
              "      --disabled-fill-color: #AAA;\n",
              "      --disabled-bg-color: #DDD;\n",
              "  }\n",
              "\n",
              "  [theme=dark] .colab-df-quickchart {\n",
              "      --bg-color: #3B4455;\n",
              "      --fill-color: #D2E3FC;\n",
              "      --hover-bg-color: #434B5C;\n",
              "      --hover-fill-color: #FFFFFF;\n",
              "      --disabled-bg-color: #3B4455;\n",
              "      --disabled-fill-color: #666;\n",
              "  }\n",
              "\n",
              "  .colab-df-quickchart {\n",
              "    background-color: var(--bg-color);\n",
              "    border: none;\n",
              "    border-radius: 50%;\n",
              "    cursor: pointer;\n",
              "    display: none;\n",
              "    fill: var(--fill-color);\n",
              "    height: 32px;\n",
              "    padding: 0;\n",
              "    width: 32px;\n",
              "  }\n",
              "\n",
              "  .colab-df-quickchart:hover {\n",
              "    background-color: var(--hover-bg-color);\n",
              "    box-shadow: 0 1px 2px rgba(60, 64, 67, 0.3), 0 1px 3px 1px rgba(60, 64, 67, 0.15);\n",
              "    fill: var(--button-hover-fill-color);\n",
              "  }\n",
              "\n",
              "  .colab-df-quickchart-complete:disabled,\n",
              "  .colab-df-quickchart-complete:disabled:hover {\n",
              "    background-color: var(--disabled-bg-color);\n",
              "    fill: var(--disabled-fill-color);\n",
              "    box-shadow: none;\n",
              "  }\n",
              "\n",
              "  .colab-df-spinner {\n",
              "    border: 2px solid var(--fill-color);\n",
              "    border-color: transparent;\n",
              "    border-bottom-color: var(--fill-color);\n",
              "    animation:\n",
              "      spin 1s steps(1) infinite;\n",
              "  }\n",
              "\n",
              "  @keyframes spin {\n",
              "    0% {\n",
              "      border-color: transparent;\n",
              "      border-bottom-color: var(--fill-color);\n",
              "      border-left-color: var(--fill-color);\n",
              "    }\n",
              "    20% {\n",
              "      border-color: transparent;\n",
              "      border-left-color: var(--fill-color);\n",
              "      border-top-color: var(--fill-color);\n",
              "    }\n",
              "    30% {\n",
              "      border-color: transparent;\n",
              "      border-left-color: var(--fill-color);\n",
              "      border-top-color: var(--fill-color);\n",
              "      border-right-color: var(--fill-color);\n",
              "    }\n",
              "    40% {\n",
              "      border-color: transparent;\n",
              "      border-right-color: var(--fill-color);\n",
              "      border-top-color: var(--fill-color);\n",
              "    }\n",
              "    60% {\n",
              "      border-color: transparent;\n",
              "      border-right-color: var(--fill-color);\n",
              "    }\n",
              "    80% {\n",
              "      border-color: transparent;\n",
              "      border-right-color: var(--fill-color);\n",
              "      border-bottom-color: var(--fill-color);\n",
              "    }\n",
              "    90% {\n",
              "      border-color: transparent;\n",
              "      border-bottom-color: var(--fill-color);\n",
              "    }\n",
              "  }\n",
              "</style>\n",
              "\n",
              "  <script>\n",
              "    async function quickchart(key) {\n",
              "      const quickchartButtonEl =\n",
              "        document.querySelector('#' + key + ' button');\n",
              "      quickchartButtonEl.disabled = true;  // To prevent multiple clicks.\n",
              "      quickchartButtonEl.classList.add('colab-df-spinner');\n",
              "      try {\n",
              "        const charts = await google.colab.kernel.invokeFunction(\n",
              "            'suggestCharts', [key], {});\n",
              "      } catch (error) {\n",
              "        console.error('Error during call to suggestCharts:', error);\n",
              "      }\n",
              "      quickchartButtonEl.classList.remove('colab-df-spinner');\n",
              "      quickchartButtonEl.classList.add('colab-df-quickchart-complete');\n",
              "    }\n",
              "    (() => {\n",
              "      let quickchartButtonEl =\n",
              "        document.querySelector('#df-5199f3cd-1215-46a6-8de9-101bf2d1a941 button');\n",
              "      quickchartButtonEl.style.display =\n",
              "        google.colab.kernel.accessAllowed ? 'block' : 'none';\n",
              "    })();\n",
              "  </script>\n",
              "</div>\n",
              "    </div>\n",
              "  </div>\n"
            ]
          },
          "metadata": {},
          "execution_count": 2
        }
      ]
    },
    {
      "cell_type": "code",
      "source": [
        "df.describe()"
      ],
      "metadata": {
        "id": "UYJI3PSuiQtO"
      },
      "execution_count": null,
      "outputs": []
    },
    {
      "cell_type": "code",
      "source": [
        "df.columns"
      ],
      "metadata": {
        "colab": {
          "base_uri": "https://localhost:8080/"
        },
        "id": "YZLqIq4ri8oi",
        "outputId": "1738add8-6d26-43ec-d580-14b60153825a"
      },
      "execution_count": null,
      "outputs": [
        {
          "output_type": "execute_result",
          "data": {
            "text/plain": [
              "Index(['PassengerId', 'Survived', 'Pclass', 'Name', 'Sex', 'Age', 'SibSp',\n",
              "       'Parch', 'Ticket', 'Fare', 'Cabin', 'Embarked'],\n",
              "      dtype='object')"
            ]
          },
          "metadata": {},
          "execution_count": 3
        }
      ]
    },
    {
      "cell_type": "code",
      "source": [
        "selected_features = df[['Age','Sex','Pclass','Fare','Survived']]\n",
        "selected_features.isnull().sum()"
      ],
      "metadata": {
        "colab": {
          "base_uri": "https://localhost:8080/"
        },
        "id": "H335rfyOjRcg",
        "outputId": "ccfe0f51-f964-4bcd-f8d3-5058c5390763"
      },
      "execution_count": null,
      "outputs": [
        {
          "output_type": "execute_result",
          "data": {
            "text/plain": [
              "Age         177\n",
              "Sex           0\n",
              "Pclass        0\n",
              "Fare          0\n",
              "Survived      0\n",
              "dtype: int64"
            ]
          },
          "metadata": {},
          "execution_count": 10
        }
      ]
    },
    {
      "cell_type": "markdown",
      "source": [
        "To clean dataset, we have two methods:\n",
        "1. We remove the empty rows/data cell\n",
        "2. We adjust the data using median method\n"
      ],
      "metadata": {
        "id": "nxPtRvPzlvCs"
      }
    },
    {
      "cell_type": "code",
      "source": [
        "selected_features.dropna(inplace = True)\n",
        "selected_features.isnull().sum()\n",
        "selected_features.shape"
      ],
      "metadata": {
        "colab": {
          "base_uri": "https://localhost:8080/"
        },
        "id": "dY9YRjcQl4YQ",
        "outputId": "97823776-063c-4cad-af1f-f1e271f7e520"
      },
      "execution_count": null,
      "outputs": [
        {
          "output_type": "stream",
          "name": "stderr",
          "text": [
            "<ipython-input-12-ebfdbc745b60>:1: SettingWithCopyWarning: \n",
            "A value is trying to be set on a copy of a slice from a DataFrame\n",
            "\n",
            "See the caveats in the documentation: https://pandas.pydata.org/pandas-docs/stable/user_guide/indexing.html#returning-a-view-versus-a-copy\n",
            "  selected_features.dropna(inplace = True)\n"
          ]
        },
        {
          "output_type": "execute_result",
          "data": {
            "text/plain": [
              "(714, 5)"
            ]
          },
          "metadata": {},
          "execution_count": 12
        }
      ]
    },
    {
      "cell_type": "code",
      "source": [
        "from sklearn.preprocessing import LabelEncoder\n",
        "lblEnco = LabelEncoder()\n",
        "selected_features['Sex'] = lblEnco.fit_transform(selected_features['Sex'])\n"
      ],
      "metadata": {
        "id": "ViaBn91vml0P"
      },
      "execution_count": null,
      "outputs": []
    },
    {
      "cell_type": "code",
      "source": [
        "#seperation of dataset as X and y\n",
        "X = selected_features[['Age','Sex','Pclass','Fare']]\n",
        "y= selected_features['Survived']\n",
        "X.shape, y.shape\n",
        "\n",
        "#dataset is prepared: loading, feature selection, cleaning, encoding, seperation"
      ],
      "metadata": {
        "id": "kyf3Rw-unMIB"
      },
      "execution_count": null,
      "outputs": []
    },
    {
      "cell_type": "code",
      "source": [
        "# 2. Implementation of Model\n",
        "from sklearn.tree import DecisionTreeClassifier\n",
        "from sklearn.model_selection import train_test_split\n",
        "\n",
        "X_train,X_test, y_train, y_test = train_test_split(X,y,test_size = 0.2)\n",
        "DT_clf = DecisionTreeClassifier()\n",
        "DT_clf.fit(X_train, y_train)"
      ],
      "metadata": {
        "colab": {
          "base_uri": "https://localhost:8080/",
          "height": 74
        },
        "id": "xpAqrEZ6oGY0",
        "outputId": "2c957486-9d47-47de-de4c-0b2cf4c4a084"
      },
      "execution_count": null,
      "outputs": [
        {
          "output_type": "execute_result",
          "data": {
            "text/plain": [
              "DecisionTreeClassifier()"
            ],
            "text/html": [
              "<style>#sk-container-id-1 {color: black;background-color: white;}#sk-container-id-1 pre{padding: 0;}#sk-container-id-1 div.sk-toggleable {background-color: white;}#sk-container-id-1 label.sk-toggleable__label {cursor: pointer;display: block;width: 100%;margin-bottom: 0;padding: 0.3em;box-sizing: border-box;text-align: center;}#sk-container-id-1 label.sk-toggleable__label-arrow:before {content: \"▸\";float: left;margin-right: 0.25em;color: #696969;}#sk-container-id-1 label.sk-toggleable__label-arrow:hover:before {color: black;}#sk-container-id-1 div.sk-estimator:hover label.sk-toggleable__label-arrow:before {color: black;}#sk-container-id-1 div.sk-toggleable__content {max-height: 0;max-width: 0;overflow: hidden;text-align: left;background-color: #f0f8ff;}#sk-container-id-1 div.sk-toggleable__content pre {margin: 0.2em;color: black;border-radius: 0.25em;background-color: #f0f8ff;}#sk-container-id-1 input.sk-toggleable__control:checked~div.sk-toggleable__content {max-height: 200px;max-width: 100%;overflow: auto;}#sk-container-id-1 input.sk-toggleable__control:checked~label.sk-toggleable__label-arrow:before {content: \"▾\";}#sk-container-id-1 div.sk-estimator input.sk-toggleable__control:checked~label.sk-toggleable__label {background-color: #d4ebff;}#sk-container-id-1 div.sk-label input.sk-toggleable__control:checked~label.sk-toggleable__label {background-color: #d4ebff;}#sk-container-id-1 input.sk-hidden--visually {border: 0;clip: rect(1px 1px 1px 1px);clip: rect(1px, 1px, 1px, 1px);height: 1px;margin: -1px;overflow: hidden;padding: 0;position: absolute;width: 1px;}#sk-container-id-1 div.sk-estimator {font-family: monospace;background-color: #f0f8ff;border: 1px dotted black;border-radius: 0.25em;box-sizing: border-box;margin-bottom: 0.5em;}#sk-container-id-1 div.sk-estimator:hover {background-color: #d4ebff;}#sk-container-id-1 div.sk-parallel-item::after {content: \"\";width: 100%;border-bottom: 1px solid gray;flex-grow: 1;}#sk-container-id-1 div.sk-label:hover label.sk-toggleable__label {background-color: #d4ebff;}#sk-container-id-1 div.sk-serial::before {content: \"\";position: absolute;border-left: 1px solid gray;box-sizing: border-box;top: 0;bottom: 0;left: 50%;z-index: 0;}#sk-container-id-1 div.sk-serial {display: flex;flex-direction: column;align-items: center;background-color: white;padding-right: 0.2em;padding-left: 0.2em;position: relative;}#sk-container-id-1 div.sk-item {position: relative;z-index: 1;}#sk-container-id-1 div.sk-parallel {display: flex;align-items: stretch;justify-content: center;background-color: white;position: relative;}#sk-container-id-1 div.sk-item::before, #sk-container-id-1 div.sk-parallel-item::before {content: \"\";position: absolute;border-left: 1px solid gray;box-sizing: border-box;top: 0;bottom: 0;left: 50%;z-index: -1;}#sk-container-id-1 div.sk-parallel-item {display: flex;flex-direction: column;z-index: 1;position: relative;background-color: white;}#sk-container-id-1 div.sk-parallel-item:first-child::after {align-self: flex-end;width: 50%;}#sk-container-id-1 div.sk-parallel-item:last-child::after {align-self: flex-start;width: 50%;}#sk-container-id-1 div.sk-parallel-item:only-child::after {width: 0;}#sk-container-id-1 div.sk-dashed-wrapped {border: 1px dashed gray;margin: 0 0.4em 0.5em 0.4em;box-sizing: border-box;padding-bottom: 0.4em;background-color: white;}#sk-container-id-1 div.sk-label label {font-family: monospace;font-weight: bold;display: inline-block;line-height: 1.2em;}#sk-container-id-1 div.sk-label-container {text-align: center;}#sk-container-id-1 div.sk-container {/* jupyter's `normalize.less` sets `[hidden] { display: none; }` but bootstrap.min.css set `[hidden] { display: none !important; }` so we also need the `!important` here to be able to override the default hidden behavior on the sphinx rendered scikit-learn.org. See: https://github.com/scikit-learn/scikit-learn/issues/21755 */display: inline-block !important;position: relative;}#sk-container-id-1 div.sk-text-repr-fallback {display: none;}</style><div id=\"sk-container-id-1\" class=\"sk-top-container\"><div class=\"sk-text-repr-fallback\"><pre>DecisionTreeClassifier()</pre><b>In a Jupyter environment, please rerun this cell to show the HTML representation or trust the notebook. <br />On GitHub, the HTML representation is unable to render, please try loading this page with nbviewer.org.</b></div><div class=\"sk-container\" hidden><div class=\"sk-item\"><div class=\"sk-estimator sk-toggleable\"><input class=\"sk-toggleable__control sk-hidden--visually\" id=\"sk-estimator-id-1\" type=\"checkbox\" checked><label for=\"sk-estimator-id-1\" class=\"sk-toggleable__label sk-toggleable__label-arrow\">DecisionTreeClassifier</label><div class=\"sk-toggleable__content\"><pre>DecisionTreeClassifier()</pre></div></div></div></div></div>"
            ]
          },
          "metadata": {},
          "execution_count": 18
        }
      ]
    },
    {
      "cell_type": "code",
      "source": [
        "#3. Prediction of survivals\n",
        "predictions = DT_clf.predict(X_test)\n",
        "predictions"
      ],
      "metadata": {
        "colab": {
          "base_uri": "https://localhost:8080/"
        },
        "id": "e2ReDNBgo2Sw",
        "outputId": "163fbf65-3ed3-4302-8766-213d4484dc1f"
      },
      "execution_count": null,
      "outputs": [
        {
          "output_type": "execute_result",
          "data": {
            "text/plain": [
              "array([0, 0, 1, 0, 0, 1, 1, 1, 0, 1, 1, 0, 1, 0, 1, 1, 0, 0, 1, 0, 0, 0,\n",
              "       0, 1, 1, 0, 0, 0, 0, 1, 1, 0, 1, 0, 0, 0, 0, 0, 0, 1, 1, 0, 1, 0,\n",
              "       0, 0, 0, 1, 0, 0, 1, 1, 0, 0, 0, 0, 0, 0, 0, 1, 0, 0, 0, 0, 1, 1,\n",
              "       0, 0, 1, 0, 1, 0, 0, 0, 0, 1, 0, 0, 0, 1, 1, 0, 0, 0, 0, 1, 0, 1,\n",
              "       0, 0, 0, 0, 1, 0, 0, 1, 0, 0, 0, 0, 1, 0, 0, 0, 0, 1, 1, 0, 0, 0,\n",
              "       1, 1, 1, 1, 0, 1, 1, 1, 1, 0, 1, 1, 0, 1, 0, 1, 1, 1, 1, 0, 1, 0,\n",
              "       0, 0, 1, 1, 0, 0, 0, 0, 0, 1, 1])"
            ]
          },
          "metadata": {},
          "execution_count": 20
        }
      ]
    },
    {
      "cell_type": "code",
      "source": [
        "from sklearn.metrics import accuracy_score\n",
        "score = accuracy_score(y_test,predictions)\n",
        "score"
      ],
      "metadata": {
        "colab": {
          "base_uri": "https://localhost:8080/"
        },
        "id": "dVD8a0Z2pdyd",
        "outputId": "52da9bc0-f20b-4cfc-8d56-d7e251a01c55"
      },
      "execution_count": null,
      "outputs": [
        {
          "output_type": "execute_result",
          "data": {
            "text/plain": [
              "0.7762237762237763"
            ]
          },
          "metadata": {},
          "execution_count": 23
        }
      ]
    },
    {
      "cell_type": "code",
      "source": [
        "DT_clf.feature_importances_ #'Age','Sex','Pclass','Fare'"
      ],
      "metadata": {
        "colab": {
          "base_uri": "https://localhost:8080/"
        },
        "id": "N1tjPIYSpvWL",
        "outputId": "d1c264b1-18c3-4e82-d282-58a2693ccf15"
      },
      "execution_count": null,
      "outputs": [
        {
          "output_type": "execute_result",
          "data": {
            "text/plain": [
              "array([0.30819698, 0.31900163, 0.12298859, 0.2498128 ])"
            ]
          },
          "metadata": {},
          "execution_count": 24
        }
      ]
    },
    {
      "cell_type": "code",
      "source": [
        "#4. Model Visualization\n",
        "from sklearn import tree\n",
        "from sklearn.tree import export_graphviz\n",
        "import graphviz\n",
        "\n",
        "dot_model = export_graphviz(DT_clf,\n",
        "                            out_file = None,\n",
        "                            filled= True,\n",
        "                            rounded = True,\n",
        "                            class_names = ['Not Survived', 'Survived'],\n",
        "                            special_characters = True,\n",
        "                            feature_names = X.columns,\n",
        "                            max_depth = 4,\n",
        "                            label = 'all')\n",
        "\n",
        "graph = graphviz.Source(dot_model)\n",
        "graph"
      ],
      "metadata": {
        "colab": {
          "base_uri": "https://localhost:8080/",
          "height": 893
        },
        "id": "-6mZKwxVqMI1",
        "outputId": "808a7b3a-334d-4db1-fc1e-d562c8ca1c49"
      },
      "execution_count": null,
      "outputs": [
        {
          "output_type": "execute_result",
          "data": {
            "image/svg+xml": "<?xml version=\"1.0\" encoding=\"UTF-8\" standalone=\"no\"?>\n<!DOCTYPE svg PUBLIC \"-//W3C//DTD SVG 1.1//EN\"\n \"http://www.w3.org/Graphics/SVG/1.1/DTD/svg11.dtd\">\n<!-- Generated by graphviz version 2.43.0 (0)\n -->\n<!-- Title: Tree Pages: 1 -->\n<svg width=\"2034pt\" height=\"639pt\"\n viewBox=\"0.00 0.00 2034.00 639.00\" xmlns=\"http://www.w3.org/2000/svg\" xmlns:xlink=\"http://www.w3.org/1999/xlink\">\n<g id=\"graph0\" class=\"graph\" transform=\"scale(1 1) rotate(0) translate(4 635)\">\n<title>Tree</title>\n<polygon fill=\"white\" stroke=\"transparent\" points=\"-4,4 -4,-635 2030,-635 2030,4 -4,4\"/>\n<!-- 0 -->\n<g id=\"node1\" class=\"node\">\n<title>0</title>\n<path fill=\"#f7dac4\" stroke=\"black\" d=\"M907,-631C907,-631 791,-631 791,-631 785,-631 779,-625 779,-619 779,-619 779,-560 779,-560 779,-554 785,-548 791,-548 791,-548 907,-548 907,-548 913,-548 919,-554 919,-560 919,-560 919,-619 919,-619 919,-625 913,-631 907,-631\"/>\n<text text-anchor=\"start\" x=\"820\" y=\"-615.8\" font-family=\"Helvetica,sans-Serif\" font-size=\"14.00\">Sex ≤ 0.5</text>\n<text text-anchor=\"start\" x=\"813.5\" y=\"-600.8\" font-family=\"Helvetica,sans-Serif\" font-size=\"14.00\">gini = 0.485</text>\n<text text-anchor=\"start\" x=\"804\" y=\"-585.8\" font-family=\"Helvetica,sans-Serif\" font-size=\"14.00\">samples = 571</text>\n<text text-anchor=\"start\" x=\"794.5\" y=\"-570.8\" font-family=\"Helvetica,sans-Serif\" font-size=\"14.00\">value = [335, 236]</text>\n<text text-anchor=\"start\" x=\"787\" y=\"-555.8\" font-family=\"Helvetica,sans-Serif\" font-size=\"14.00\">class = Not Survived</text>\n</g>\n<!-- 1 -->\n<g id=\"node2\" class=\"node\">\n<title>1</title>\n<path fill=\"#74baed\" stroke=\"black\" d=\"M603.5,-512C603.5,-512 510.5,-512 510.5,-512 504.5,-512 498.5,-506 498.5,-500 498.5,-500 498.5,-441 498.5,-441 498.5,-435 504.5,-429 510.5,-429 510.5,-429 603.5,-429 603.5,-429 609.5,-429 615.5,-435 615.5,-441 615.5,-441 615.5,-500 615.5,-500 615.5,-506 609.5,-512 603.5,-512\"/>\n<text text-anchor=\"start\" x=\"520\" y=\"-496.8\" font-family=\"Helvetica,sans-Serif\" font-size=\"14.00\">Pclass ≤ 2.5</text>\n<text text-anchor=\"start\" x=\"521.5\" y=\"-481.8\" font-family=\"Helvetica,sans-Serif\" font-size=\"14.00\">gini = 0.354</text>\n<text text-anchor=\"start\" x=\"512\" y=\"-466.8\" font-family=\"Helvetica,sans-Serif\" font-size=\"14.00\">samples = 213</text>\n<text text-anchor=\"start\" x=\"506.5\" y=\"-451.8\" font-family=\"Helvetica,sans-Serif\" font-size=\"14.00\">value = [49, 164]</text>\n<text text-anchor=\"start\" x=\"507\" y=\"-436.8\" font-family=\"Helvetica,sans-Serif\" font-size=\"14.00\">class = Survived</text>\n</g>\n<!-- 0&#45;&gt;1 -->\n<g id=\"edge1\" class=\"edge\">\n<title>0&#45;&gt;1</title>\n<path fill=\"none\" stroke=\"black\" d=\"M778.69,-560.33C732.11,-541.67 671.34,-517.31 625.2,-498.83\"/>\n<polygon fill=\"black\" stroke=\"black\" points=\"626.47,-495.56 615.88,-495.09 623.86,-502.06 626.47,-495.56\"/>\n<text text-anchor=\"middle\" x=\"625.72\" y=\"-514.38\" font-family=\"Helvetica,sans-Serif\" font-size=\"14.00\">True</text>\n</g>\n<!-- 88 -->\n<g id=\"node19\" class=\"node\">\n<title>88</title>\n<path fill=\"#eca16b\" stroke=\"black\" d=\"M1199,-512C1199,-512 1083,-512 1083,-512 1077,-512 1071,-506 1071,-500 1071,-500 1071,-441 1071,-441 1071,-435 1077,-429 1083,-429 1083,-429 1199,-429 1199,-429 1205,-429 1211,-435 1211,-441 1211,-441 1211,-500 1211,-500 1211,-506 1205,-512 1199,-512\"/>\n<text text-anchor=\"start\" x=\"1104\" y=\"-496.8\" font-family=\"Helvetica,sans-Serif\" font-size=\"14.00\">Pclass ≤ 1.5</text>\n<text text-anchor=\"start\" x=\"1105.5\" y=\"-481.8\" font-family=\"Helvetica,sans-Serif\" font-size=\"14.00\">gini = 0.321</text>\n<text text-anchor=\"start\" x=\"1096\" y=\"-466.8\" font-family=\"Helvetica,sans-Serif\" font-size=\"14.00\">samples = 358</text>\n<text text-anchor=\"start\" x=\"1090.5\" y=\"-451.8\" font-family=\"Helvetica,sans-Serif\" font-size=\"14.00\">value = [286, 72]</text>\n<text text-anchor=\"start\" x=\"1079\" y=\"-436.8\" font-family=\"Helvetica,sans-Serif\" font-size=\"14.00\">class = Not Survived</text>\n</g>\n<!-- 0&#45;&gt;88 -->\n<g id=\"edge18\" class=\"edge\">\n<title>0&#45;&gt;88</title>\n<path fill=\"none\" stroke=\"black\" d=\"M919.31,-560.33C962.17,-543.16 1017.04,-521.17 1061.48,-503.36\"/>\n<polygon fill=\"black\" stroke=\"black\" points=\"1062.81,-506.6 1070.79,-499.63 1060.21,-500.1 1062.81,-506.6\"/>\n<text text-anchor=\"middle\" x=\"1060.96\" y=\"-518.92\" font-family=\"Helvetica,sans-Serif\" font-size=\"14.00\">False</text>\n</g>\n<!-- 2 -->\n<g id=\"node3\" class=\"node\">\n<title>2</title>\n<path fill=\"#46a3e7\" stroke=\"black\" d=\"M262,-393C262,-393 170,-393 170,-393 164,-393 158,-387 158,-381 158,-381 158,-322 158,-322 158,-316 164,-310 170,-310 170,-310 262,-310 262,-310 268,-310 274,-316 274,-322 274,-322 274,-381 274,-381 274,-387 268,-393 262,-393\"/>\n<text text-anchor=\"start\" x=\"187\" y=\"-377.8\" font-family=\"Helvetica,sans-Serif\" font-size=\"14.00\">Age ≤ 2.5</text>\n<text text-anchor=\"start\" x=\"180.5\" y=\"-362.8\" font-family=\"Helvetica,sans-Serif\" font-size=\"14.00\">gini = 0.113</text>\n<text text-anchor=\"start\" x=\"171\" y=\"-347.8\" font-family=\"Helvetica,sans-Serif\" font-size=\"14.00\">samples = 133</text>\n<text text-anchor=\"start\" x=\"169\" y=\"-332.8\" font-family=\"Helvetica,sans-Serif\" font-size=\"14.00\">value = [8, 125]</text>\n<text text-anchor=\"start\" x=\"166\" y=\"-317.8\" font-family=\"Helvetica,sans-Serif\" font-size=\"14.00\">class = Survived</text>\n</g>\n<!-- 1&#45;&gt;2 -->\n<g id=\"edge2\" class=\"edge\">\n<title>1&#45;&gt;2</title>\n<path fill=\"none\" stroke=\"black\" d=\"M498.38,-449.39C438.82,-428.95 346.65,-397.33 283.94,-375.81\"/>\n<polygon fill=\"black\" stroke=\"black\" points=\"284.73,-372.38 274.14,-372.45 282.46,-379 284.73,-372.38\"/>\n</g>\n<!-- 35 -->\n<g id=\"node10\" class=\"node\">\n<title>35</title>\n<path fill=\"#fef9f5\" stroke=\"black\" d=\"M615,-393C615,-393 499,-393 499,-393 493,-393 487,-387 487,-381 487,-381 487,-322 487,-322 487,-316 493,-310 499,-310 499,-310 615,-310 615,-310 621,-310 627,-316 627,-322 627,-322 627,-381 627,-381 627,-387 621,-393 615,-393\"/>\n<text text-anchor=\"start\" x=\"524\" y=\"-377.8\" font-family=\"Helvetica,sans-Serif\" font-size=\"14.00\">Age ≤ 38.5</text>\n<text text-anchor=\"start\" x=\"529\" y=\"-362.8\" font-family=\"Helvetica,sans-Serif\" font-size=\"14.00\">gini = 0.5</text>\n<text text-anchor=\"start\" x=\"516\" y=\"-347.8\" font-family=\"Helvetica,sans-Serif\" font-size=\"14.00\">samples = 80</text>\n<text text-anchor=\"start\" x=\"510\" y=\"-332.8\" font-family=\"Helvetica,sans-Serif\" font-size=\"14.00\">value = [41, 39]</text>\n<text text-anchor=\"start\" x=\"495\" y=\"-317.8\" font-family=\"Helvetica,sans-Serif\" font-size=\"14.00\">class = Not Survived</text>\n</g>\n<!-- 1&#45;&gt;35 -->\n<g id=\"edge9\" class=\"edge\">\n<title>1&#45;&gt;35</title>\n<path fill=\"none\" stroke=\"black\" d=\"M557,-428.91C557,-420.65 557,-411.86 557,-403.3\"/>\n<polygon fill=\"black\" stroke=\"black\" points=\"560.5,-403.02 557,-393.02 553.5,-403.02 560.5,-403.02\"/>\n</g>\n<!-- 3 -->\n<g id=\"node4\" class=\"node\">\n<title>3</title>\n<path fill=\"#e58139\" stroke=\"black\" d=\"M128,-266.5C128,-266.5 12,-266.5 12,-266.5 6,-266.5 0,-260.5 0,-254.5 0,-254.5 0,-210.5 0,-210.5 0,-204.5 6,-198.5 12,-198.5 12,-198.5 128,-198.5 128,-198.5 134,-198.5 140,-204.5 140,-210.5 140,-210.5 140,-254.5 140,-254.5 140,-260.5 134,-266.5 128,-266.5\"/>\n<text text-anchor=\"start\" x=\"42\" y=\"-251.3\" font-family=\"Helvetica,sans-Serif\" font-size=\"14.00\">gini = 0.0</text>\n<text text-anchor=\"start\" x=\"32.5\" y=\"-236.3\" font-family=\"Helvetica,sans-Serif\" font-size=\"14.00\">samples = 1</text>\n<text text-anchor=\"start\" x=\"30.5\" y=\"-221.3\" font-family=\"Helvetica,sans-Serif\" font-size=\"14.00\">value = [1, 0]</text>\n<text text-anchor=\"start\" x=\"8\" y=\"-206.3\" font-family=\"Helvetica,sans-Serif\" font-size=\"14.00\">class = Not Survived</text>\n</g>\n<!-- 2&#45;&gt;3 -->\n<g id=\"edge3\" class=\"edge\">\n<title>2&#45;&gt;3</title>\n<path fill=\"none\" stroke=\"black\" d=\"M165.35,-309.91C150.47,-297.99 134.23,-284.98 119.44,-273.12\"/>\n<polygon fill=\"black\" stroke=\"black\" points=\"121.38,-270.19 111.39,-266.67 117,-275.65 121.38,-270.19\"/>\n</g>\n<!-- 4 -->\n<g id=\"node5\" class=\"node\">\n<title>4</title>\n<path fill=\"#44a2e6\" stroke=\"black\" d=\"M262,-274C262,-274 170,-274 170,-274 164,-274 158,-268 158,-262 158,-262 158,-203 158,-203 158,-197 164,-191 170,-191 170,-191 262,-191 262,-191 268,-191 274,-197 274,-203 274,-203 274,-262 274,-262 274,-268 268,-274 262,-274\"/>\n<text text-anchor=\"start\" x=\"173.5\" y=\"-258.8\" font-family=\"Helvetica,sans-Serif\" font-size=\"14.00\">Fare ≤ 28.856</text>\n<text text-anchor=\"start\" x=\"188\" y=\"-243.8\" font-family=\"Helvetica,sans-Serif\" font-size=\"14.00\">gini = 0.1</text>\n<text text-anchor=\"start\" x=\"171\" y=\"-228.8\" font-family=\"Helvetica,sans-Serif\" font-size=\"14.00\">samples = 132</text>\n<text text-anchor=\"start\" x=\"169\" y=\"-213.8\" font-family=\"Helvetica,sans-Serif\" font-size=\"14.00\">value = [7, 125]</text>\n<text text-anchor=\"start\" x=\"166\" y=\"-198.8\" font-family=\"Helvetica,sans-Serif\" font-size=\"14.00\">class = Survived</text>\n</g>\n<!-- 2&#45;&gt;4 -->\n<g id=\"edge4\" class=\"edge\">\n<title>2&#45;&gt;4</title>\n<path fill=\"none\" stroke=\"black\" d=\"M216,-309.91C216,-301.65 216,-292.86 216,-284.3\"/>\n<polygon fill=\"black\" stroke=\"black\" points=\"219.5,-284.02 216,-274.02 212.5,-284.02 219.5,-284.02\"/>\n</g>\n<!-- 5 -->\n<g id=\"node6\" class=\"node\">\n<title>5</title>\n<path fill=\"#53aae8\" stroke=\"black\" d=\"M128,-155C128,-155 36,-155 36,-155 30,-155 24,-149 24,-143 24,-143 24,-84 24,-84 24,-78 30,-72 36,-72 36,-72 128,-72 128,-72 134,-72 140,-78 140,-84 140,-84 140,-143 140,-143 140,-149 134,-155 128,-155\"/>\n<text text-anchor=\"start\" x=\"39.5\" y=\"-139.8\" font-family=\"Helvetica,sans-Serif\" font-size=\"14.00\">Fare ≤ 28.231</text>\n<text text-anchor=\"start\" x=\"46.5\" y=\"-124.8\" font-family=\"Helvetica,sans-Serif\" font-size=\"14.00\">gini = 0.206</text>\n<text text-anchor=\"start\" x=\"41\" y=\"-109.8\" font-family=\"Helvetica,sans-Serif\" font-size=\"14.00\">samples = 60</text>\n<text text-anchor=\"start\" x=\"39\" y=\"-94.8\" font-family=\"Helvetica,sans-Serif\" font-size=\"14.00\">value = [7, 53]</text>\n<text text-anchor=\"start\" x=\"32\" y=\"-79.8\" font-family=\"Helvetica,sans-Serif\" font-size=\"14.00\">class = Survived</text>\n</g>\n<!-- 4&#45;&gt;5 -->\n<g id=\"edge5\" class=\"edge\">\n<title>4&#45;&gt;5</title>\n<path fill=\"none\" stroke=\"black\" d=\"M169.51,-190.91C158.7,-181.47 147.1,-171.34 136,-161.65\"/>\n<polygon fill=\"black\" stroke=\"black\" points=\"138.24,-158.96 128.41,-155.02 133.64,-164.23 138.24,-158.96\"/>\n</g>\n<!-- 34 -->\n<g id=\"node9\" class=\"node\">\n<title>34</title>\n<path fill=\"#399de5\" stroke=\"black\" d=\"M262,-147.5C262,-147.5 170,-147.5 170,-147.5 164,-147.5 158,-141.5 158,-135.5 158,-135.5 158,-91.5 158,-91.5 158,-85.5 164,-79.5 170,-79.5 170,-79.5 262,-79.5 262,-79.5 268,-79.5 274,-85.5 274,-91.5 274,-91.5 274,-135.5 274,-135.5 274,-141.5 268,-147.5 262,-147.5\"/>\n<text text-anchor=\"start\" x=\"188\" y=\"-132.3\" font-family=\"Helvetica,sans-Serif\" font-size=\"14.00\">gini = 0.0</text>\n<text text-anchor=\"start\" x=\"175\" y=\"-117.3\" font-family=\"Helvetica,sans-Serif\" font-size=\"14.00\">samples = 72</text>\n<text text-anchor=\"start\" x=\"173\" y=\"-102.3\" font-family=\"Helvetica,sans-Serif\" font-size=\"14.00\">value = [0, 72]</text>\n<text text-anchor=\"start\" x=\"166\" y=\"-87.3\" font-family=\"Helvetica,sans-Serif\" font-size=\"14.00\">class = Survived</text>\n</g>\n<!-- 4&#45;&gt;34 -->\n<g id=\"edge8\" class=\"edge\">\n<title>4&#45;&gt;34</title>\n<path fill=\"none\" stroke=\"black\" d=\"M216,-190.91C216,-180.2 216,-168.62 216,-157.78\"/>\n<polygon fill=\"black\" stroke=\"black\" points=\"219.5,-157.67 216,-147.67 212.5,-157.67 219.5,-157.67\"/>\n</g>\n<!-- 6 -->\n<g id=\"node7\" class=\"node\">\n<title>6</title>\n<path fill=\"#c0c0c0\" stroke=\"black\" d=\"M61,-36C61,-36 31,-36 31,-36 25,-36 19,-30 19,-24 19,-24 19,-12 19,-12 19,-6 25,0 31,0 31,0 61,0 61,0 67,0 73,-6 73,-12 73,-12 73,-24 73,-24 73,-30 67,-36 61,-36\"/>\n<text text-anchor=\"middle\" x=\"46\" y=\"-14.3\" font-family=\"Helvetica,sans-Serif\" font-size=\"14.00\">(...)</text>\n</g>\n<!-- 5&#45;&gt;6 -->\n<g id=\"edge6\" class=\"edge\">\n<title>5&#45;&gt;6</title>\n<path fill=\"none\" stroke=\"black\" d=\"M66.31,-71.76C62.96,-63.04 59.49,-54.04 56.39,-45.99\"/>\n<polygon fill=\"black\" stroke=\"black\" points=\"59.56,-44.48 52.7,-36.41 53.03,-46.99 59.56,-44.48\"/>\n</g>\n<!-- 33 -->\n<g id=\"node8\" class=\"node\">\n<title>33</title>\n<path fill=\"#c0c0c0\" stroke=\"black\" d=\"M133,-36C133,-36 103,-36 103,-36 97,-36 91,-30 91,-24 91,-24 91,-12 91,-12 91,-6 97,0 103,0 103,0 133,0 133,0 139,0 145,-6 145,-12 145,-12 145,-24 145,-24 145,-30 139,-36 133,-36\"/>\n<text text-anchor=\"middle\" x=\"118\" y=\"-14.3\" font-family=\"Helvetica,sans-Serif\" font-size=\"14.00\">(...)</text>\n</g>\n<!-- 5&#45;&gt;33 -->\n<g id=\"edge7\" class=\"edge\">\n<title>5&#45;&gt;33</title>\n<path fill=\"none\" stroke=\"black\" d=\"M97.69,-71.76C101.04,-63.04 104.51,-54.04 107.61,-45.99\"/>\n<polygon fill=\"black\" stroke=\"black\" points=\"110.97,-46.99 111.3,-36.41 104.44,-44.48 110.97,-46.99\"/>\n</g>\n<!-- 36 -->\n<g id=\"node11\" class=\"node\">\n<title>36</title>\n<path fill=\"#e5f2fc\" stroke=\"black\" d=\"M530,-274C530,-274 438,-274 438,-274 432,-274 426,-268 426,-262 426,-262 426,-203 426,-203 426,-197 432,-191 438,-191 438,-191 530,-191 530,-191 536,-191 542,-197 542,-203 542,-203 542,-262 542,-262 542,-268 536,-274 530,-274\"/>\n<text text-anchor=\"start\" x=\"455\" y=\"-258.8\" font-family=\"Helvetica,sans-Serif\" font-size=\"14.00\">Age ≤ 1.5</text>\n<text text-anchor=\"start\" x=\"448.5\" y=\"-243.8\" font-family=\"Helvetica,sans-Serif\" font-size=\"14.00\">gini = 0.498</text>\n<text text-anchor=\"start\" x=\"443\" y=\"-228.8\" font-family=\"Helvetica,sans-Serif\" font-size=\"14.00\">samples = 71</text>\n<text text-anchor=\"start\" x=\"437\" y=\"-213.8\" font-family=\"Helvetica,sans-Serif\" font-size=\"14.00\">value = [33, 38]</text>\n<text text-anchor=\"start\" x=\"434\" y=\"-198.8\" font-family=\"Helvetica,sans-Serif\" font-size=\"14.00\">class = Survived</text>\n</g>\n<!-- 35&#45;&gt;36 -->\n<g id=\"edge10\" class=\"edge\">\n<title>35&#45;&gt;36</title>\n<path fill=\"none\" stroke=\"black\" d=\"M531.67,-309.91C526.18,-301.1 520.31,-291.7 514.64,-282.61\"/>\n<polygon fill=\"black\" stroke=\"black\" points=\"517.55,-280.65 509.28,-274.02 511.61,-284.36 517.55,-280.65\"/>\n</g>\n<!-- 85 -->\n<g id=\"node16\" class=\"node\">\n<title>85</title>\n<path fill=\"#e89152\" stroke=\"black\" d=\"M688,-274C688,-274 572,-274 572,-274 566,-274 560,-268 560,-262 560,-262 560,-203 560,-203 560,-197 566,-191 572,-191 572,-191 688,-191 688,-191 694,-191 700,-197 700,-203 700,-203 700,-262 700,-262 700,-268 694,-274 688,-274\"/>\n<text text-anchor=\"start\" x=\"597\" y=\"-258.8\" font-family=\"Helvetica,sans-Serif\" font-size=\"14.00\">Age ≤ 55.0</text>\n<text text-anchor=\"start\" x=\"594.5\" y=\"-243.8\" font-family=\"Helvetica,sans-Serif\" font-size=\"14.00\">gini = 0.198</text>\n<text text-anchor=\"start\" x=\"592.5\" y=\"-228.8\" font-family=\"Helvetica,sans-Serif\" font-size=\"14.00\">samples = 9</text>\n<text text-anchor=\"start\" x=\"590.5\" y=\"-213.8\" font-family=\"Helvetica,sans-Serif\" font-size=\"14.00\">value = [8, 1]</text>\n<text text-anchor=\"start\" x=\"568\" y=\"-198.8\" font-family=\"Helvetica,sans-Serif\" font-size=\"14.00\">class = Not Survived</text>\n</g>\n<!-- 35&#45;&gt;85 -->\n<g id=\"edge15\" class=\"edge\">\n<title>35&#45;&gt;85</title>\n<path fill=\"none\" stroke=\"black\" d=\"M582.33,-309.91C587.82,-301.1 593.69,-291.7 599.36,-282.61\"/>\n<polygon fill=\"black\" stroke=\"black\" points=\"602.39,-284.36 604.72,-274.02 596.45,-280.65 602.39,-284.36\"/>\n</g>\n<!-- 37 -->\n<g id=\"node12\" class=\"node\">\n<title>37</title>\n<path fill=\"#399de5\" stroke=\"black\" d=\"M396,-147.5C396,-147.5 304,-147.5 304,-147.5 298,-147.5 292,-141.5 292,-135.5 292,-135.5 292,-91.5 292,-91.5 292,-85.5 298,-79.5 304,-79.5 304,-79.5 396,-79.5 396,-79.5 402,-79.5 408,-85.5 408,-91.5 408,-91.5 408,-135.5 408,-135.5 408,-141.5 402,-147.5 396,-147.5\"/>\n<text text-anchor=\"start\" x=\"322\" y=\"-132.3\" font-family=\"Helvetica,sans-Serif\" font-size=\"14.00\">gini = 0.0</text>\n<text text-anchor=\"start\" x=\"312.5\" y=\"-117.3\" font-family=\"Helvetica,sans-Serif\" font-size=\"14.00\">samples = 4</text>\n<text text-anchor=\"start\" x=\"310.5\" y=\"-102.3\" font-family=\"Helvetica,sans-Serif\" font-size=\"14.00\">value = [0, 4]</text>\n<text text-anchor=\"start\" x=\"300\" y=\"-87.3\" font-family=\"Helvetica,sans-Serif\" font-size=\"14.00\">class = Survived</text>\n</g>\n<!-- 36&#45;&gt;37 -->\n<g id=\"edge11\" class=\"edge\">\n<title>36&#45;&gt;37</title>\n<path fill=\"none\" stroke=\"black\" d=\"M437.51,-190.91C423.99,-179.1 409.23,-166.22 395.75,-154.45\"/>\n<polygon fill=\"black\" stroke=\"black\" points=\"397.82,-151.61 387.99,-147.67 393.22,-156.88 397.82,-151.61\"/>\n</g>\n<!-- 38 -->\n<g id=\"node13\" class=\"node\">\n<title>38</title>\n<path fill=\"#f9fcfe\" stroke=\"black\" d=\"M530,-155C530,-155 438,-155 438,-155 432,-155 426,-149 426,-143 426,-143 426,-84 426,-84 426,-78 432,-72 438,-72 438,-72 530,-72 530,-72 536,-72 542,-78 542,-84 542,-84 542,-143 542,-143 542,-149 536,-155 530,-155\"/>\n<text text-anchor=\"start\" x=\"445.5\" y=\"-139.8\" font-family=\"Helvetica,sans-Serif\" font-size=\"14.00\">Fare ≤ 8.346</text>\n<text text-anchor=\"start\" x=\"456\" y=\"-124.8\" font-family=\"Helvetica,sans-Serif\" font-size=\"14.00\">gini = 0.5</text>\n<text text-anchor=\"start\" x=\"443\" y=\"-109.8\" font-family=\"Helvetica,sans-Serif\" font-size=\"14.00\">samples = 67</text>\n<text text-anchor=\"start\" x=\"437\" y=\"-94.8\" font-family=\"Helvetica,sans-Serif\" font-size=\"14.00\">value = [33, 34]</text>\n<text text-anchor=\"start\" x=\"434\" y=\"-79.8\" font-family=\"Helvetica,sans-Serif\" font-size=\"14.00\">class = Survived</text>\n</g>\n<!-- 36&#45;&gt;38 -->\n<g id=\"edge12\" class=\"edge\">\n<title>36&#45;&gt;38</title>\n<path fill=\"none\" stroke=\"black\" d=\"M484,-190.91C484,-182.65 484,-173.86 484,-165.3\"/>\n<polygon fill=\"black\" stroke=\"black\" points=\"487.5,-165.02 484,-155.02 480.5,-165.02 487.5,-165.02\"/>\n</g>\n<!-- 39 -->\n<g id=\"node14\" class=\"node\">\n<title>39</title>\n<path fill=\"#c0c0c0\" stroke=\"black\" d=\"M463,-36C463,-36 433,-36 433,-36 427,-36 421,-30 421,-24 421,-24 421,-12 421,-12 421,-6 427,0 433,0 433,0 463,0 463,0 469,0 475,-6 475,-12 475,-12 475,-24 475,-24 475,-30 469,-36 463,-36\"/>\n<text text-anchor=\"middle\" x=\"448\" y=\"-14.3\" font-family=\"Helvetica,sans-Serif\" font-size=\"14.00\">(...)</text>\n</g>\n<!-- 38&#45;&gt;39 -->\n<g id=\"edge13\" class=\"edge\">\n<title>38&#45;&gt;39</title>\n<path fill=\"none\" stroke=\"black\" d=\"M468.31,-71.76C464.96,-63.04 461.49,-54.04 458.39,-45.99\"/>\n<polygon fill=\"black\" stroke=\"black\" points=\"461.56,-44.48 454.7,-36.41 455.03,-46.99 461.56,-44.48\"/>\n</g>\n<!-- 52 -->\n<g id=\"node15\" class=\"node\">\n<title>52</title>\n<path fill=\"#c0c0c0\" stroke=\"black\" d=\"M535,-36C535,-36 505,-36 505,-36 499,-36 493,-30 493,-24 493,-24 493,-12 493,-12 493,-6 499,0 505,0 505,0 535,0 535,0 541,0 547,-6 547,-12 547,-12 547,-24 547,-24 547,-30 541,-36 535,-36\"/>\n<text text-anchor=\"middle\" x=\"520\" y=\"-14.3\" font-family=\"Helvetica,sans-Serif\" font-size=\"14.00\">(...)</text>\n</g>\n<!-- 38&#45;&gt;52 -->\n<g id=\"edge14\" class=\"edge\">\n<title>38&#45;&gt;52</title>\n<path fill=\"none\" stroke=\"black\" d=\"M499.69,-71.76C503.04,-63.04 506.51,-54.04 509.61,-45.99\"/>\n<polygon fill=\"black\" stroke=\"black\" points=\"512.97,-46.99 513.3,-36.41 506.44,-44.48 512.97,-46.99\"/>\n</g>\n<!-- 86 -->\n<g id=\"node17\" class=\"node\">\n<title>86</title>\n<path fill=\"#e58139\" stroke=\"black\" d=\"M688,-147.5C688,-147.5 572,-147.5 572,-147.5 566,-147.5 560,-141.5 560,-135.5 560,-135.5 560,-91.5 560,-91.5 560,-85.5 566,-79.5 572,-79.5 572,-79.5 688,-79.5 688,-79.5 694,-79.5 700,-85.5 700,-91.5 700,-91.5 700,-135.5 700,-135.5 700,-141.5 694,-147.5 688,-147.5\"/>\n<text text-anchor=\"start\" x=\"602\" y=\"-132.3\" font-family=\"Helvetica,sans-Serif\" font-size=\"14.00\">gini = 0.0</text>\n<text text-anchor=\"start\" x=\"592.5\" y=\"-117.3\" font-family=\"Helvetica,sans-Serif\" font-size=\"14.00\">samples = 8</text>\n<text text-anchor=\"start\" x=\"590.5\" y=\"-102.3\" font-family=\"Helvetica,sans-Serif\" font-size=\"14.00\">value = [8, 0]</text>\n<text text-anchor=\"start\" x=\"568\" y=\"-87.3\" font-family=\"Helvetica,sans-Serif\" font-size=\"14.00\">class = Not Survived</text>\n</g>\n<!-- 85&#45;&gt;86 -->\n<g id=\"edge16\" class=\"edge\">\n<title>85&#45;&gt;86</title>\n<path fill=\"none\" stroke=\"black\" d=\"M630,-190.91C630,-180.2 630,-168.62 630,-157.78\"/>\n<polygon fill=\"black\" stroke=\"black\" points=\"633.5,-157.67 630,-147.67 626.5,-157.67 633.5,-157.67\"/>\n</g>\n<!-- 87 -->\n<g id=\"node18\" class=\"node\">\n<title>87</title>\n<path fill=\"#399de5\" stroke=\"black\" d=\"M822,-147.5C822,-147.5 730,-147.5 730,-147.5 724,-147.5 718,-141.5 718,-135.5 718,-135.5 718,-91.5 718,-91.5 718,-85.5 724,-79.5 730,-79.5 730,-79.5 822,-79.5 822,-79.5 828,-79.5 834,-85.5 834,-91.5 834,-91.5 834,-135.5 834,-135.5 834,-141.5 828,-147.5 822,-147.5\"/>\n<text text-anchor=\"start\" x=\"748\" y=\"-132.3\" font-family=\"Helvetica,sans-Serif\" font-size=\"14.00\">gini = 0.0</text>\n<text text-anchor=\"start\" x=\"738.5\" y=\"-117.3\" font-family=\"Helvetica,sans-Serif\" font-size=\"14.00\">samples = 1</text>\n<text text-anchor=\"start\" x=\"736.5\" y=\"-102.3\" font-family=\"Helvetica,sans-Serif\" font-size=\"14.00\">value = [0, 1]</text>\n<text text-anchor=\"start\" x=\"726\" y=\"-87.3\" font-family=\"Helvetica,sans-Serif\" font-size=\"14.00\">class = Survived</text>\n</g>\n<!-- 85&#45;&gt;87 -->\n<g id=\"edge17\" class=\"edge\">\n<title>85&#45;&gt;87</title>\n<path fill=\"none\" stroke=\"black\" d=\"M680.65,-190.91C695.53,-178.99 711.77,-165.98 726.56,-154.12\"/>\n<polygon fill=\"black\" stroke=\"black\" points=\"729,-156.65 734.61,-147.67 724.62,-151.19 729,-156.65\"/>\n</g>\n<!-- 89 -->\n<g id=\"node20\" class=\"node\">\n<title>89</title>\n<path fill=\"#f7dac4\" stroke=\"black\" d=\"M1199,-393C1199,-393 1083,-393 1083,-393 1077,-393 1071,-387 1071,-381 1071,-381 1071,-322 1071,-322 1071,-316 1077,-310 1083,-310 1083,-310 1199,-310 1199,-310 1205,-310 1211,-316 1211,-322 1211,-322 1211,-381 1211,-381 1211,-387 1205,-393 1199,-393\"/>\n<text text-anchor=\"start\" x=\"1108\" y=\"-377.8\" font-family=\"Helvetica,sans-Serif\" font-size=\"14.00\">Age ≤ 43.0</text>\n<text text-anchor=\"start\" x=\"1105.5\" y=\"-362.8\" font-family=\"Helvetica,sans-Serif\" font-size=\"14.00\">gini = 0.485</text>\n<text text-anchor=\"start\" x=\"1100\" y=\"-347.8\" font-family=\"Helvetica,sans-Serif\" font-size=\"14.00\">samples = 75</text>\n<text text-anchor=\"start\" x=\"1094\" y=\"-332.8\" font-family=\"Helvetica,sans-Serif\" font-size=\"14.00\">value = [44, 31]</text>\n<text text-anchor=\"start\" x=\"1079\" y=\"-317.8\" font-family=\"Helvetica,sans-Serif\" font-size=\"14.00\">class = Not Survived</text>\n</g>\n<!-- 88&#45;&gt;89 -->\n<g id=\"edge19\" class=\"edge\">\n<title>88&#45;&gt;89</title>\n<path fill=\"none\" stroke=\"black\" d=\"M1141,-428.91C1141,-420.65 1141,-411.86 1141,-403.3\"/>\n<polygon fill=\"black\" stroke=\"black\" points=\"1144.5,-403.02 1141,-393.02 1137.5,-403.02 1144.5,-403.02\"/>\n</g>\n<!-- 142 -->\n<g id=\"node31\" class=\"node\">\n<title>142</title>\n<path fill=\"#e9965b\" stroke=\"black\" d=\"M1625,-393C1625,-393 1509,-393 1509,-393 1503,-393 1497,-387 1497,-381 1497,-381 1497,-322 1497,-322 1497,-316 1503,-310 1509,-310 1509,-310 1625,-310 1625,-310 1631,-310 1637,-316 1637,-322 1637,-322 1637,-381 1637,-381 1637,-387 1631,-393 1625,-393\"/>\n<text text-anchor=\"start\" x=\"1538\" y=\"-377.8\" font-family=\"Helvetica,sans-Serif\" font-size=\"14.00\">Age ≤ 6.5</text>\n<text text-anchor=\"start\" x=\"1531.5\" y=\"-362.8\" font-family=\"Helvetica,sans-Serif\" font-size=\"14.00\">gini = 0.248</text>\n<text text-anchor=\"start\" x=\"1522\" y=\"-347.8\" font-family=\"Helvetica,sans-Serif\" font-size=\"14.00\">samples = 283</text>\n<text text-anchor=\"start\" x=\"1516.5\" y=\"-332.8\" font-family=\"Helvetica,sans-Serif\" font-size=\"14.00\">value = [242, 41]</text>\n<text text-anchor=\"start\" x=\"1505\" y=\"-317.8\" font-family=\"Helvetica,sans-Serif\" font-size=\"14.00\">class = Not Survived</text>\n</g>\n<!-- 88&#45;&gt;142 -->\n<g id=\"edge30\" class=\"edge\">\n<title>88&#45;&gt;142</title>\n<path fill=\"none\" stroke=\"black\" d=\"M1211.35,-450.18C1287.15,-429.36 1407.58,-396.29 1486.95,-374.49\"/>\n<polygon fill=\"black\" stroke=\"black\" points=\"1488.19,-377.78 1496.9,-371.75 1486.33,-371.03 1488.19,-377.78\"/>\n</g>\n<!-- 90 -->\n<g id=\"node21\" class=\"node\">\n<title>90</title>\n<path fill=\"#d4eaf9\" stroke=\"black\" d=\"M1114,-274C1114,-274 1022,-274 1022,-274 1016,-274 1010,-268 1010,-262 1010,-262 1010,-203 1010,-203 1010,-197 1016,-191 1022,-191 1022,-191 1114,-191 1114,-191 1120,-191 1126,-197 1126,-203 1126,-203 1126,-262 1126,-262 1126,-268 1120,-274 1114,-274\"/>\n<text text-anchor=\"start\" x=\"1025.5\" y=\"-258.8\" font-family=\"Helvetica,sans-Serif\" font-size=\"14.00\">Fare ≤ 15.644</text>\n<text text-anchor=\"start\" x=\"1032.5\" y=\"-243.8\" font-family=\"Helvetica,sans-Serif\" font-size=\"14.00\">gini = 0.493</text>\n<text text-anchor=\"start\" x=\"1027\" y=\"-228.8\" font-family=\"Helvetica,sans-Serif\" font-size=\"14.00\">samples = 41</text>\n<text text-anchor=\"start\" x=\"1021\" y=\"-213.8\" font-family=\"Helvetica,sans-Serif\" font-size=\"14.00\">value = [18, 23]</text>\n<text text-anchor=\"start\" x=\"1018\" y=\"-198.8\" font-family=\"Helvetica,sans-Serif\" font-size=\"14.00\">class = Survived</text>\n</g>\n<!-- 89&#45;&gt;90 -->\n<g id=\"edge20\" class=\"edge\">\n<title>89&#45;&gt;90</title>\n<path fill=\"none\" stroke=\"black\" d=\"M1115.67,-309.91C1110.18,-301.1 1104.31,-291.7 1098.64,-282.61\"/>\n<polygon fill=\"black\" stroke=\"black\" points=\"1101.55,-280.65 1093.28,-274.02 1095.61,-284.36 1101.55,-280.65\"/>\n</g>\n<!-- 123 -->\n<g id=\"node26\" class=\"node\">\n<title>123</title>\n<path fill=\"#eda876\" stroke=\"black\" d=\"M1272,-274C1272,-274 1156,-274 1156,-274 1150,-274 1144,-268 1144,-262 1144,-262 1144,-203 1144,-203 1144,-197 1150,-191 1156,-191 1156,-191 1272,-191 1272,-191 1278,-191 1284,-197 1284,-203 1284,-203 1284,-262 1284,-262 1284,-268 1278,-274 1272,-274\"/>\n<text text-anchor=\"start\" x=\"1181\" y=\"-258.8\" font-family=\"Helvetica,sans-Serif\" font-size=\"14.00\">Age ≤ 75.5</text>\n<text text-anchor=\"start\" x=\"1182\" y=\"-243.8\" font-family=\"Helvetica,sans-Serif\" font-size=\"14.00\">gini = 0.36</text>\n<text text-anchor=\"start\" x=\"1173\" y=\"-228.8\" font-family=\"Helvetica,sans-Serif\" font-size=\"14.00\">samples = 34</text>\n<text text-anchor=\"start\" x=\"1171\" y=\"-213.8\" font-family=\"Helvetica,sans-Serif\" font-size=\"14.00\">value = [26, 8]</text>\n<text text-anchor=\"start\" x=\"1152\" y=\"-198.8\" font-family=\"Helvetica,sans-Serif\" font-size=\"14.00\">class = Not Survived</text>\n</g>\n<!-- 89&#45;&gt;123 -->\n<g id=\"edge25\" class=\"edge\">\n<title>89&#45;&gt;123</title>\n<path fill=\"none\" stroke=\"black\" d=\"M1166.33,-309.91C1171.82,-301.1 1177.69,-291.7 1183.36,-282.61\"/>\n<polygon fill=\"black\" stroke=\"black\" points=\"1186.39,-284.36 1188.72,-274.02 1180.45,-280.65 1186.39,-284.36\"/>\n</g>\n<!-- 91 -->\n<g id=\"node22\" class=\"node\">\n<title>91</title>\n<path fill=\"#e58139\" stroke=\"black\" d=\"M980,-147.5C980,-147.5 864,-147.5 864,-147.5 858,-147.5 852,-141.5 852,-135.5 852,-135.5 852,-91.5 852,-91.5 852,-85.5 858,-79.5 864,-79.5 864,-79.5 980,-79.5 980,-79.5 986,-79.5 992,-85.5 992,-91.5 992,-91.5 992,-135.5 992,-135.5 992,-141.5 986,-147.5 980,-147.5\"/>\n<text text-anchor=\"start\" x=\"894\" y=\"-132.3\" font-family=\"Helvetica,sans-Serif\" font-size=\"14.00\">gini = 0.0</text>\n<text text-anchor=\"start\" x=\"884.5\" y=\"-117.3\" font-family=\"Helvetica,sans-Serif\" font-size=\"14.00\">samples = 3</text>\n<text text-anchor=\"start\" x=\"882.5\" y=\"-102.3\" font-family=\"Helvetica,sans-Serif\" font-size=\"14.00\">value = [3, 0]</text>\n<text text-anchor=\"start\" x=\"860\" y=\"-87.3\" font-family=\"Helvetica,sans-Serif\" font-size=\"14.00\">class = Not Survived</text>\n</g>\n<!-- 90&#45;&gt;91 -->\n<g id=\"edge21\" class=\"edge\">\n<title>90&#45;&gt;91</title>\n<path fill=\"none\" stroke=\"black\" d=\"M1017.35,-190.91C1002.47,-178.99 986.23,-165.98 971.44,-154.12\"/>\n<polygon fill=\"black\" stroke=\"black\" points=\"973.38,-151.19 963.39,-147.67 969,-156.65 973.38,-151.19\"/>\n</g>\n<!-- 92 -->\n<g id=\"node23\" class=\"node\">\n<title>92</title>\n<path fill=\"#baddf6\" stroke=\"black\" d=\"M1114,-155C1114,-155 1022,-155 1022,-155 1016,-155 1010,-149 1010,-143 1010,-143 1010,-84 1010,-84 1010,-78 1016,-72 1022,-72 1022,-72 1114,-72 1114,-72 1120,-72 1126,-78 1126,-84 1126,-84 1126,-143 1126,-143 1126,-149 1120,-155 1114,-155\"/>\n<text text-anchor=\"start\" x=\"1025.5\" y=\"-139.8\" font-family=\"Helvetica,sans-Serif\" font-size=\"14.00\">Fare ≤ 37.812</text>\n<text text-anchor=\"start\" x=\"1032.5\" y=\"-124.8\" font-family=\"Helvetica,sans-Serif\" font-size=\"14.00\">gini = 0.478</text>\n<text text-anchor=\"start\" x=\"1027\" y=\"-109.8\" font-family=\"Helvetica,sans-Serif\" font-size=\"14.00\">samples = 38</text>\n<text text-anchor=\"start\" x=\"1021\" y=\"-94.8\" font-family=\"Helvetica,sans-Serif\" font-size=\"14.00\">value = [15, 23]</text>\n<text text-anchor=\"start\" x=\"1018\" y=\"-79.8\" font-family=\"Helvetica,sans-Serif\" font-size=\"14.00\">class = Survived</text>\n</g>\n<!-- 90&#45;&gt;92 -->\n<g id=\"edge22\" class=\"edge\">\n<title>90&#45;&gt;92</title>\n<path fill=\"none\" stroke=\"black\" d=\"M1068,-190.91C1068,-182.65 1068,-173.86 1068,-165.3\"/>\n<polygon fill=\"black\" stroke=\"black\" points=\"1071.5,-165.02 1068,-155.02 1064.5,-165.02 1071.5,-165.02\"/>\n</g>\n<!-- 93 -->\n<g id=\"node24\" class=\"node\">\n<title>93</title>\n<path fill=\"#c0c0c0\" stroke=\"black\" d=\"M1012,-36C1012,-36 982,-36 982,-36 976,-36 970,-30 970,-24 970,-24 970,-12 970,-12 970,-6 976,0 982,0 982,0 1012,0 1012,0 1018,0 1024,-6 1024,-12 1024,-12 1024,-24 1024,-24 1024,-30 1018,-36 1012,-36\"/>\n<text text-anchor=\"middle\" x=\"997\" y=\"-14.3\" font-family=\"Helvetica,sans-Serif\" font-size=\"14.00\">(...)</text>\n</g>\n<!-- 92&#45;&gt;93 -->\n<g id=\"edge23\" class=\"edge\">\n<title>92&#45;&gt;93</title>\n<path fill=\"none\" stroke=\"black\" d=\"M1037.06,-71.76C1030,-62.46 1022.69,-52.84 1016.28,-44.4\"/>\n<polygon fill=\"black\" stroke=\"black\" points=\"1019.05,-42.25 1010.22,-36.41 1013.48,-46.49 1019.05,-42.25\"/>\n</g>\n<!-- 98 -->\n<g id=\"node25\" class=\"node\">\n<title>98</title>\n<path fill=\"#c0c0c0\" stroke=\"black\" d=\"M1084,-36C1084,-36 1054,-36 1054,-36 1048,-36 1042,-30 1042,-24 1042,-24 1042,-12 1042,-12 1042,-6 1048,0 1054,0 1054,0 1084,0 1084,0 1090,0 1096,-6 1096,-12 1096,-12 1096,-24 1096,-24 1096,-30 1090,-36 1084,-36\"/>\n<text text-anchor=\"middle\" x=\"1069\" y=\"-14.3\" font-family=\"Helvetica,sans-Serif\" font-size=\"14.00\">(...)</text>\n</g>\n<!-- 92&#45;&gt;98 -->\n<g id=\"edge24\" class=\"edge\">\n<title>92&#45;&gt;98</title>\n<path fill=\"none\" stroke=\"black\" d=\"M1068.44,-71.76C1068.53,-63.24 1068.62,-54.44 1068.71,-46.53\"/>\n<polygon fill=\"black\" stroke=\"black\" points=\"1072.21,-46.44 1068.81,-36.41 1065.21,-46.37 1072.21,-46.44\"/>\n</g>\n<!-- 124 -->\n<g id=\"node27\" class=\"node\">\n<title>124</title>\n<path fill=\"#eca36e\" stroke=\"black\" d=\"M1272,-155C1272,-155 1156,-155 1156,-155 1150,-155 1144,-149 1144,-143 1144,-143 1144,-84 1144,-84 1144,-78 1150,-72 1156,-72 1156,-72 1272,-72 1272,-72 1278,-72 1284,-78 1284,-84 1284,-84 1284,-143 1284,-143 1284,-149 1278,-155 1272,-155\"/>\n<text text-anchor=\"start\" x=\"1181\" y=\"-139.8\" font-family=\"Helvetica,sans-Serif\" font-size=\"14.00\">Age ≤ 53.0</text>\n<text text-anchor=\"start\" x=\"1178.5\" y=\"-124.8\" font-family=\"Helvetica,sans-Serif\" font-size=\"14.00\">gini = 0.334</text>\n<text text-anchor=\"start\" x=\"1173\" y=\"-109.8\" font-family=\"Helvetica,sans-Serif\" font-size=\"14.00\">samples = 33</text>\n<text text-anchor=\"start\" x=\"1171\" y=\"-94.8\" font-family=\"Helvetica,sans-Serif\" font-size=\"14.00\">value = [26, 7]</text>\n<text text-anchor=\"start\" x=\"1152\" y=\"-79.8\" font-family=\"Helvetica,sans-Serif\" font-size=\"14.00\">class = Not Survived</text>\n</g>\n<!-- 123&#45;&gt;124 -->\n<g id=\"edge26\" class=\"edge\">\n<title>123&#45;&gt;124</title>\n<path fill=\"none\" stroke=\"black\" d=\"M1214,-190.91C1214,-182.65 1214,-173.86 1214,-165.3\"/>\n<polygon fill=\"black\" stroke=\"black\" points=\"1217.5,-165.02 1214,-155.02 1210.5,-165.02 1217.5,-165.02\"/>\n</g>\n<!-- 141 -->\n<g id=\"node30\" class=\"node\">\n<title>141</title>\n<path fill=\"#399de5\" stroke=\"black\" d=\"M1406,-147.5C1406,-147.5 1314,-147.5 1314,-147.5 1308,-147.5 1302,-141.5 1302,-135.5 1302,-135.5 1302,-91.5 1302,-91.5 1302,-85.5 1308,-79.5 1314,-79.5 1314,-79.5 1406,-79.5 1406,-79.5 1412,-79.5 1418,-85.5 1418,-91.5 1418,-91.5 1418,-135.5 1418,-135.5 1418,-141.5 1412,-147.5 1406,-147.5\"/>\n<text text-anchor=\"start\" x=\"1332\" y=\"-132.3\" font-family=\"Helvetica,sans-Serif\" font-size=\"14.00\">gini = 0.0</text>\n<text text-anchor=\"start\" x=\"1322.5\" y=\"-117.3\" font-family=\"Helvetica,sans-Serif\" font-size=\"14.00\">samples = 1</text>\n<text text-anchor=\"start\" x=\"1320.5\" y=\"-102.3\" font-family=\"Helvetica,sans-Serif\" font-size=\"14.00\">value = [0, 1]</text>\n<text text-anchor=\"start\" x=\"1310\" y=\"-87.3\" font-family=\"Helvetica,sans-Serif\" font-size=\"14.00\">class = Survived</text>\n</g>\n<!-- 123&#45;&gt;141 -->\n<g id=\"edge29\" class=\"edge\">\n<title>123&#45;&gt;141</title>\n<path fill=\"none\" stroke=\"black\" d=\"M1264.65,-190.91C1279.53,-178.99 1295.77,-165.98 1310.56,-154.12\"/>\n<polygon fill=\"black\" stroke=\"black\" points=\"1313,-156.65 1318.61,-147.67 1308.62,-151.19 1313,-156.65\"/>\n</g>\n<!-- 125 -->\n<g id=\"node28\" class=\"node\">\n<title>125</title>\n<path fill=\"#c0c0c0\" stroke=\"black\" d=\"M1193,-36C1193,-36 1163,-36 1163,-36 1157,-36 1151,-30 1151,-24 1151,-24 1151,-12 1151,-12 1151,-6 1157,0 1163,0 1163,0 1193,0 1193,0 1199,0 1205,-6 1205,-12 1205,-12 1205,-24 1205,-24 1205,-30 1199,-36 1193,-36\"/>\n<text text-anchor=\"middle\" x=\"1178\" y=\"-14.3\" font-family=\"Helvetica,sans-Serif\" font-size=\"14.00\">(...)</text>\n</g>\n<!-- 124&#45;&gt;125 -->\n<g id=\"edge27\" class=\"edge\">\n<title>124&#45;&gt;125</title>\n<path fill=\"none\" stroke=\"black\" d=\"M1198.31,-71.76C1194.96,-63.04 1191.49,-54.04 1188.39,-45.99\"/>\n<polygon fill=\"black\" stroke=\"black\" points=\"1191.56,-44.48 1184.7,-36.41 1185.03,-46.99 1191.56,-44.48\"/>\n</g>\n<!-- 136 -->\n<g id=\"node29\" class=\"node\">\n<title>136</title>\n<path fill=\"#c0c0c0\" stroke=\"black\" d=\"M1265,-36C1265,-36 1235,-36 1235,-36 1229,-36 1223,-30 1223,-24 1223,-24 1223,-12 1223,-12 1223,-6 1229,0 1235,0 1235,0 1265,0 1265,0 1271,0 1277,-6 1277,-12 1277,-12 1277,-24 1277,-24 1277,-30 1271,-36 1265,-36\"/>\n<text text-anchor=\"middle\" x=\"1250\" y=\"-14.3\" font-family=\"Helvetica,sans-Serif\" font-size=\"14.00\">(...)</text>\n</g>\n<!-- 124&#45;&gt;136 -->\n<g id=\"edge28\" class=\"edge\">\n<title>124&#45;&gt;136</title>\n<path fill=\"none\" stroke=\"black\" d=\"M1229.69,-71.76C1233.04,-63.04 1236.51,-54.04 1239.61,-45.99\"/>\n<polygon fill=\"black\" stroke=\"black\" points=\"1242.97,-46.99 1243.3,-36.41 1236.44,-44.48 1242.97,-46.99\"/>\n</g>\n<!-- 143 -->\n<g id=\"node32\" class=\"node\">\n<title>143</title>\n<path fill=\"#b7dbf6\" stroke=\"black\" d=\"M1613,-274C1613,-274 1521,-274 1521,-274 1515,-274 1509,-268 1509,-262 1509,-262 1509,-203 1509,-203 1509,-197 1515,-191 1521,-191 1521,-191 1613,-191 1613,-191 1619,-191 1625,-197 1625,-203 1625,-203 1625,-262 1625,-262 1625,-268 1619,-274 1613,-274\"/>\n<text text-anchor=\"start\" x=\"1524.5\" y=\"-258.8\" font-family=\"Helvetica,sans-Serif\" font-size=\"14.00\">Fare ≤ 27.562</text>\n<text text-anchor=\"start\" x=\"1531.5\" y=\"-243.8\" font-family=\"Helvetica,sans-Serif\" font-size=\"14.00\">gini = 0.475</text>\n<text text-anchor=\"start\" x=\"1526\" y=\"-228.8\" font-family=\"Helvetica,sans-Serif\" font-size=\"14.00\">samples = 18</text>\n<text text-anchor=\"start\" x=\"1524\" y=\"-213.8\" font-family=\"Helvetica,sans-Serif\" font-size=\"14.00\">value = [7, 11]</text>\n<text text-anchor=\"start\" x=\"1517\" y=\"-198.8\" font-family=\"Helvetica,sans-Serif\" font-size=\"14.00\">class = Survived</text>\n</g>\n<!-- 142&#45;&gt;143 -->\n<g id=\"edge31\" class=\"edge\">\n<title>142&#45;&gt;143</title>\n<path fill=\"none\" stroke=\"black\" d=\"M1567,-309.91C1567,-301.65 1567,-292.86 1567,-284.3\"/>\n<polygon fill=\"black\" stroke=\"black\" points=\"1570.5,-284.02 1567,-274.02 1563.5,-284.02 1570.5,-284.02\"/>\n</g>\n<!-- 156 -->\n<g id=\"node39\" class=\"node\">\n<title>156</title>\n<path fill=\"#e89152\" stroke=\"black\" d=\"M1856,-274C1856,-274 1740,-274 1740,-274 1734,-274 1728,-268 1728,-262 1728,-262 1728,-203 1728,-203 1728,-197 1734,-191 1740,-191 1740,-191 1856,-191 1856,-191 1862,-191 1868,-197 1868,-203 1868,-203 1868,-262 1868,-262 1868,-268 1862,-274 1856,-274\"/>\n<text text-anchor=\"start\" x=\"1755.5\" y=\"-258.8\" font-family=\"Helvetica,sans-Serif\" font-size=\"14.00\">Fare ≤ 51.698</text>\n<text text-anchor=\"start\" x=\"1762.5\" y=\"-243.8\" font-family=\"Helvetica,sans-Serif\" font-size=\"14.00\">gini = 0.201</text>\n<text text-anchor=\"start\" x=\"1753\" y=\"-228.8\" font-family=\"Helvetica,sans-Serif\" font-size=\"14.00\">samples = 265</text>\n<text text-anchor=\"start\" x=\"1747.5\" y=\"-213.8\" font-family=\"Helvetica,sans-Serif\" font-size=\"14.00\">value = [235, 30]</text>\n<text text-anchor=\"start\" x=\"1736\" y=\"-198.8\" font-family=\"Helvetica,sans-Serif\" font-size=\"14.00\">class = Not Survived</text>\n</g>\n<!-- 142&#45;&gt;156 -->\n<g id=\"edge38\" class=\"edge\">\n<title>142&#45;&gt;156</title>\n<path fill=\"none\" stroke=\"black\" d=\"M1637.25,-314.92C1662.9,-301.93 1692.08,-287.15 1718.48,-273.78\"/>\n<polygon fill=\"black\" stroke=\"black\" points=\"1720.35,-276.75 1727.69,-269.11 1717.19,-270.51 1720.35,-276.75\"/>\n</g>\n<!-- 144 -->\n<g id=\"node33\" class=\"node\">\n<title>144</title>\n<path fill=\"#4fa8e8\" stroke=\"black\" d=\"M1540,-155C1540,-155 1448,-155 1448,-155 1442,-155 1436,-149 1436,-143 1436,-143 1436,-84 1436,-84 1436,-78 1442,-72 1448,-72 1448,-72 1540,-72 1540,-72 1546,-72 1552,-78 1552,-84 1552,-84 1552,-143 1552,-143 1552,-149 1546,-155 1540,-155\"/>\n<text text-anchor=\"start\" x=\"1451.5\" y=\"-139.8\" font-family=\"Helvetica,sans-Serif\" font-size=\"14.00\">Fare ≤ 20.825</text>\n<text text-anchor=\"start\" x=\"1462\" y=\"-124.8\" font-family=\"Helvetica,sans-Serif\" font-size=\"14.00\">gini = 0.18</text>\n<text text-anchor=\"start\" x=\"1453\" y=\"-109.8\" font-family=\"Helvetica,sans-Serif\" font-size=\"14.00\">samples = 10</text>\n<text text-anchor=\"start\" x=\"1454.5\" y=\"-94.8\" font-family=\"Helvetica,sans-Serif\" font-size=\"14.00\">value = [1, 9]</text>\n<text text-anchor=\"start\" x=\"1444\" y=\"-79.8\" font-family=\"Helvetica,sans-Serif\" font-size=\"14.00\">class = Survived</text>\n</g>\n<!-- 143&#45;&gt;144 -->\n<g id=\"edge32\" class=\"edge\">\n<title>143&#45;&gt;144</title>\n<path fill=\"none\" stroke=\"black\" d=\"M1541.67,-190.91C1536.18,-182.1 1530.31,-172.7 1524.64,-163.61\"/>\n<polygon fill=\"black\" stroke=\"black\" points=\"1527.55,-161.65 1519.28,-155.02 1521.61,-165.36 1527.55,-161.65\"/>\n</g>\n<!-- 149 -->\n<g id=\"node36\" class=\"node\">\n<title>149</title>\n<path fill=\"#eeab7b\" stroke=\"black\" d=\"M1698,-155C1698,-155 1582,-155 1582,-155 1576,-155 1570,-149 1570,-143 1570,-143 1570,-84 1570,-84 1570,-78 1576,-72 1582,-72 1582,-72 1698,-72 1698,-72 1704,-72 1710,-78 1710,-84 1710,-84 1710,-143 1710,-143 1710,-149 1704,-155 1698,-155\"/>\n<text text-anchor=\"start\" x=\"1603\" y=\"-139.8\" font-family=\"Helvetica,sans-Serif\" font-size=\"14.00\">Pclass ≤ 2.5</text>\n<text text-anchor=\"start\" x=\"1604.5\" y=\"-124.8\" font-family=\"Helvetica,sans-Serif\" font-size=\"14.00\">gini = 0.375</text>\n<text text-anchor=\"start\" x=\"1602.5\" y=\"-109.8\" font-family=\"Helvetica,sans-Serif\" font-size=\"14.00\">samples = 8</text>\n<text text-anchor=\"start\" x=\"1600.5\" y=\"-94.8\" font-family=\"Helvetica,sans-Serif\" font-size=\"14.00\">value = [6, 2]</text>\n<text text-anchor=\"start\" x=\"1578\" y=\"-79.8\" font-family=\"Helvetica,sans-Serif\" font-size=\"14.00\">class = Not Survived</text>\n</g>\n<!-- 143&#45;&gt;149 -->\n<g id=\"edge35\" class=\"edge\">\n<title>143&#45;&gt;149</title>\n<path fill=\"none\" stroke=\"black\" d=\"M1592.33,-190.91C1597.82,-182.1 1603.69,-172.7 1609.36,-163.61\"/>\n<polygon fill=\"black\" stroke=\"black\" points=\"1612.39,-165.36 1614.72,-155.02 1606.45,-161.65 1612.39,-165.36\"/>\n</g>\n<!-- 145 -->\n<g id=\"node34\" class=\"node\">\n<title>145</title>\n<path fill=\"#c0c0c0\" stroke=\"black\" d=\"M1438,-36C1438,-36 1408,-36 1408,-36 1402,-36 1396,-30 1396,-24 1396,-24 1396,-12 1396,-12 1396,-6 1402,0 1408,0 1408,0 1438,0 1438,0 1444,0 1450,-6 1450,-12 1450,-12 1450,-24 1450,-24 1450,-30 1444,-36 1438,-36\"/>\n<text text-anchor=\"middle\" x=\"1423\" y=\"-14.3\" font-family=\"Helvetica,sans-Serif\" font-size=\"14.00\">(...)</text>\n</g>\n<!-- 144&#45;&gt;145 -->\n<g id=\"edge33\" class=\"edge\">\n<title>144&#45;&gt;145</title>\n<path fill=\"none\" stroke=\"black\" d=\"M1463.06,-71.76C1456,-62.46 1448.69,-52.84 1442.28,-44.4\"/>\n<polygon fill=\"black\" stroke=\"black\" points=\"1445.05,-42.25 1436.22,-36.41 1439.48,-46.49 1445.05,-42.25\"/>\n</g>\n<!-- 146 -->\n<g id=\"node35\" class=\"node\">\n<title>146</title>\n<path fill=\"#c0c0c0\" stroke=\"black\" d=\"M1510,-36C1510,-36 1480,-36 1480,-36 1474,-36 1468,-30 1468,-24 1468,-24 1468,-12 1468,-12 1468,-6 1474,0 1480,0 1480,0 1510,0 1510,0 1516,0 1522,-6 1522,-12 1522,-12 1522,-24 1522,-24 1522,-30 1516,-36 1510,-36\"/>\n<text text-anchor=\"middle\" x=\"1495\" y=\"-14.3\" font-family=\"Helvetica,sans-Serif\" font-size=\"14.00\">(...)</text>\n</g>\n<!-- 144&#45;&gt;146 -->\n<g id=\"edge34\" class=\"edge\">\n<title>144&#45;&gt;146</title>\n<path fill=\"none\" stroke=\"black\" d=\"M1494.44,-71.76C1494.53,-63.24 1494.62,-54.44 1494.71,-46.53\"/>\n<polygon fill=\"black\" stroke=\"black\" points=\"1498.21,-46.44 1494.81,-36.41 1491.21,-46.37 1498.21,-46.44\"/>\n</g>\n<!-- 150 -->\n<g id=\"node37\" class=\"node\">\n<title>150</title>\n<path fill=\"#c0c0c0\" stroke=\"black\" d=\"M1590,-36C1590,-36 1560,-36 1560,-36 1554,-36 1548,-30 1548,-24 1548,-24 1548,-12 1548,-12 1548,-6 1554,0 1560,0 1560,0 1590,0 1590,0 1596,0 1602,-6 1602,-12 1602,-12 1602,-24 1602,-24 1602,-30 1596,-36 1590,-36\"/>\n<text text-anchor=\"middle\" x=\"1575\" y=\"-14.3\" font-family=\"Helvetica,sans-Serif\" font-size=\"14.00\">(...)</text>\n</g>\n<!-- 149&#45;&gt;150 -->\n<g id=\"edge36\" class=\"edge\">\n<title>149&#45;&gt;150</title>\n<path fill=\"none\" stroke=\"black\" d=\"M1611.68,-71.76C1605.28,-62.56 1598.66,-53.04 1592.84,-44.66\"/>\n<polygon fill=\"black\" stroke=\"black\" points=\"1595.68,-42.62 1587.1,-36.41 1589.93,-46.61 1595.68,-42.62\"/>\n</g>\n<!-- 151 -->\n<g id=\"node38\" class=\"node\">\n<title>151</title>\n<path fill=\"#c0c0c0\" stroke=\"black\" d=\"M1662,-36C1662,-36 1632,-36 1632,-36 1626,-36 1620,-30 1620,-24 1620,-24 1620,-12 1620,-12 1620,-6 1626,0 1632,0 1632,0 1662,0 1662,0 1668,0 1674,-6 1674,-12 1674,-12 1674,-24 1674,-24 1674,-30 1668,-36 1662,-36\"/>\n<text text-anchor=\"middle\" x=\"1647\" y=\"-14.3\" font-family=\"Helvetica,sans-Serif\" font-size=\"14.00\">(...)</text>\n</g>\n<!-- 149&#45;&gt;151 -->\n<g id=\"edge37\" class=\"edge\">\n<title>149&#45;&gt;151</title>\n<path fill=\"none\" stroke=\"black\" d=\"M1643.05,-71.76C1643.69,-63.24 1644.35,-54.44 1644.94,-46.53\"/>\n<polygon fill=\"black\" stroke=\"black\" points=\"1648.44,-46.64 1645.7,-36.41 1641.46,-46.12 1648.44,-46.64\"/>\n</g>\n<!-- 157 -->\n<g id=\"node40\" class=\"node\">\n<title>157</title>\n<path fill=\"#e89050\" stroke=\"black\" d=\"M1856,-155C1856,-155 1740,-155 1740,-155 1734,-155 1728,-149 1728,-143 1728,-143 1728,-84 1728,-84 1728,-78 1734,-72 1740,-72 1740,-72 1856,-72 1856,-72 1862,-72 1868,-78 1868,-84 1868,-84 1868,-143 1868,-143 1868,-149 1862,-155 1856,-155\"/>\n<text text-anchor=\"start\" x=\"1765\" y=\"-139.8\" font-family=\"Helvetica,sans-Serif\" font-size=\"14.00\">Age ≤ 32.5</text>\n<text text-anchor=\"start\" x=\"1762.5\" y=\"-124.8\" font-family=\"Helvetica,sans-Serif\" font-size=\"14.00\">gini = 0.187</text>\n<text text-anchor=\"start\" x=\"1753\" y=\"-109.8\" font-family=\"Helvetica,sans-Serif\" font-size=\"14.00\">samples = 258</text>\n<text text-anchor=\"start\" x=\"1747.5\" y=\"-94.8\" font-family=\"Helvetica,sans-Serif\" font-size=\"14.00\">value = [231, 27]</text>\n<text text-anchor=\"start\" x=\"1736\" y=\"-79.8\" font-family=\"Helvetica,sans-Serif\" font-size=\"14.00\">class = Not Survived</text>\n</g>\n<!-- 156&#45;&gt;157 -->\n<g id=\"edge39\" class=\"edge\">\n<title>156&#45;&gt;157</title>\n<path fill=\"none\" stroke=\"black\" d=\"M1798,-190.91C1798,-182.65 1798,-173.86 1798,-165.3\"/>\n<polygon fill=\"black\" stroke=\"black\" points=\"1801.5,-165.02 1798,-155.02 1794.5,-165.02 1801.5,-165.02\"/>\n</g>\n<!-- 272 -->\n<g id=\"node43\" class=\"node\">\n<title>272</title>\n<path fill=\"#f8e0ce\" stroke=\"black\" d=\"M2014,-155C2014,-155 1898,-155 1898,-155 1892,-155 1886,-149 1886,-143 1886,-143 1886,-84 1886,-84 1886,-78 1892,-72 1898,-72 1898,-72 2014,-72 2014,-72 2020,-72 2026,-78 2026,-84 2026,-84 2026,-143 2026,-143 2026,-149 2020,-155 2014,-155\"/>\n<text text-anchor=\"start\" x=\"1913.5\" y=\"-139.8\" font-family=\"Helvetica,sans-Serif\" font-size=\"14.00\">Fare ≤ 64.998</text>\n<text text-anchor=\"start\" x=\"1924\" y=\"-124.8\" font-family=\"Helvetica,sans-Serif\" font-size=\"14.00\">gini = 0.49</text>\n<text text-anchor=\"start\" x=\"1918.5\" y=\"-109.8\" font-family=\"Helvetica,sans-Serif\" font-size=\"14.00\">samples = 7</text>\n<text text-anchor=\"start\" x=\"1916.5\" y=\"-94.8\" font-family=\"Helvetica,sans-Serif\" font-size=\"14.00\">value = [4, 3]</text>\n<text text-anchor=\"start\" x=\"1894\" y=\"-79.8\" font-family=\"Helvetica,sans-Serif\" font-size=\"14.00\">class = Not Survived</text>\n</g>\n<!-- 156&#45;&gt;272 -->\n<g id=\"edge42\" class=\"edge\">\n<title>156&#45;&gt;272</title>\n<path fill=\"none\" stroke=\"black\" d=\"M1852.82,-190.91C1865.81,-181.29 1879.76,-170.95 1893.08,-161.09\"/>\n<polygon fill=\"black\" stroke=\"black\" points=\"1895.33,-163.78 1901.28,-155.02 1891.16,-158.16 1895.33,-163.78\"/>\n</g>\n<!-- 158 -->\n<g id=\"node41\" class=\"node\">\n<title>158</title>\n<path fill=\"#c0c0c0\" stroke=\"black\" d=\"M1766,-36C1766,-36 1736,-36 1736,-36 1730,-36 1724,-30 1724,-24 1724,-24 1724,-12 1724,-12 1724,-6 1730,0 1736,0 1736,0 1766,0 1766,0 1772,0 1778,-6 1778,-12 1778,-12 1778,-24 1778,-24 1778,-30 1772,-36 1766,-36\"/>\n<text text-anchor=\"middle\" x=\"1751\" y=\"-14.3\" font-family=\"Helvetica,sans-Serif\" font-size=\"14.00\">(...)</text>\n</g>\n<!-- 157&#45;&gt;158 -->\n<g id=\"edge40\" class=\"edge\">\n<title>157&#45;&gt;158</title>\n<path fill=\"none\" stroke=\"black\" d=\"M1777.52,-71.76C1773.04,-62.85 1768.41,-53.64 1764.3,-45.46\"/>\n<polygon fill=\"black\" stroke=\"black\" points=\"1767.37,-43.77 1759.75,-36.41 1761.11,-46.91 1767.37,-43.77\"/>\n</g>\n<!-- 251 -->\n<g id=\"node42\" class=\"node\">\n<title>251</title>\n<path fill=\"#c0c0c0\" stroke=\"black\" d=\"M1838,-36C1838,-36 1808,-36 1808,-36 1802,-36 1796,-30 1796,-24 1796,-24 1796,-12 1796,-12 1796,-6 1802,0 1808,0 1808,0 1838,0 1838,0 1844,0 1850,-6 1850,-12 1850,-12 1850,-24 1850,-24 1850,-30 1844,-36 1838,-36\"/>\n<text text-anchor=\"middle\" x=\"1823\" y=\"-14.3\" font-family=\"Helvetica,sans-Serif\" font-size=\"14.00\">(...)</text>\n</g>\n<!-- 157&#45;&gt;251 -->\n<g id=\"edge41\" class=\"edge\">\n<title>157&#45;&gt;251</title>\n<path fill=\"none\" stroke=\"black\" d=\"M1808.89,-71.76C1811.2,-63.14 1813.58,-54.24 1815.71,-46.26\"/>\n<polygon fill=\"black\" stroke=\"black\" points=\"1819.14,-46.97 1818.35,-36.41 1812.38,-45.16 1819.14,-46.97\"/>\n</g>\n<!-- 273 -->\n<g id=\"node44\" class=\"node\">\n<title>273</title>\n<path fill=\"#c0c0c0\" stroke=\"black\" d=\"M1935,-36C1935,-36 1905,-36 1905,-36 1899,-36 1893,-30 1893,-24 1893,-24 1893,-12 1893,-12 1893,-6 1899,0 1905,0 1905,0 1935,0 1935,0 1941,0 1947,-6 1947,-12 1947,-12 1947,-24 1947,-24 1947,-30 1941,-36 1935,-36\"/>\n<text text-anchor=\"middle\" x=\"1920\" y=\"-14.3\" font-family=\"Helvetica,sans-Serif\" font-size=\"14.00\">(...)</text>\n</g>\n<!-- 272&#45;&gt;273 -->\n<g id=\"edge43\" class=\"edge\">\n<title>272&#45;&gt;273</title>\n<path fill=\"none\" stroke=\"black\" d=\"M1940.31,-71.76C1936.96,-63.04 1933.49,-54.04 1930.39,-45.99\"/>\n<polygon fill=\"black\" stroke=\"black\" points=\"1933.56,-44.48 1926.7,-36.41 1927.03,-46.99 1933.56,-44.48\"/>\n</g>\n<!-- 278 -->\n<g id=\"node45\" class=\"node\">\n<title>278</title>\n<path fill=\"#c0c0c0\" stroke=\"black\" d=\"M2007,-36C2007,-36 1977,-36 1977,-36 1971,-36 1965,-30 1965,-24 1965,-24 1965,-12 1965,-12 1965,-6 1971,0 1977,0 1977,0 2007,0 2007,0 2013,0 2019,-6 2019,-12 2019,-12 2019,-24 2019,-24 2019,-30 2013,-36 2007,-36\"/>\n<text text-anchor=\"middle\" x=\"1992\" y=\"-14.3\" font-family=\"Helvetica,sans-Serif\" font-size=\"14.00\">(...)</text>\n</g>\n<!-- 272&#45;&gt;278 -->\n<g id=\"edge44\" class=\"edge\">\n<title>272&#45;&gt;278</title>\n<path fill=\"none\" stroke=\"black\" d=\"M1971.69,-71.76C1975.04,-63.04 1978.51,-54.04 1981.61,-45.99\"/>\n<polygon fill=\"black\" stroke=\"black\" points=\"1984.97,-46.99 1985.3,-36.41 1978.44,-44.48 1984.97,-46.99\"/>\n</g>\n</g>\n</svg>\n",
            "text/plain": [
              "<graphviz.sources.Source at 0x79c800dd0640>"
            ]
          },
          "metadata": {},
          "execution_count": 33
        }
      ]
    }
  ]
}